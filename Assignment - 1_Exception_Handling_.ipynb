{
 "cells": [
  {
   "cell_type": "markdown",
   "id": "ba3a1b7f-051e-42ea-b91b-1d362fdbde92",
   "metadata": {},
   "source": [
    "# Exception Handling Assignment - 1\n",
    "\n",
    "## Python - Week 5 Files & Exception Handling & Memory Management\n",
    "\n",
    "## Code By - Aniruddh Tiwari"
   ]
  },
  {
   "cell_type": "markdown",
   "id": "cc646522-a8fb-454f-9f3a-1462a6f38fd3",
   "metadata": {},
   "source": [
    "### Q1. What is an Exception in pthon? Write the difference between Exceptions and syntax errors "
   ]
  },
  {
   "cell_type": "markdown",
   "id": "ab57c370-df86-4fde-8d91-836a7eb2e259",
   "metadata": {},
   "source": [
    "An exception is an event that occurs during the execution of a program, which disrupts the normal flow of the program's instructions. Exceptions are used to handle and recover from errors or exceptional conditions that may arise during the execution of a program."
   ]
  },
  {
   "cell_type": "code",
   "execution_count": 1,
   "id": "0074f479-4100-41f3-8d98-28bdaa577840",
   "metadata": {},
   "outputs": [
    {
     "name": "stdin",
     "output_type": "stream",
     "text": [
      "Age:-  -23\n"
     ]
    }
   ],
   "source": [
    "# Example for exception\n",
    "try :\n",
    "    age = int(input(\"Age:- \"))\n",
    "    \n",
    "except ValueError as e:\n",
    "    print(\"Enter the int value in age colom not a str\",e)"
   ]
  },
  {
   "cell_type": "markdown",
   "id": "0e8eed90-4671-4ae4-9174-5971fdc63e8d",
   "metadata": {},
   "source": [
    "#### Difference Between Exceptions and Syntax errors\n",
    "****Syntex Erron****:- Error is caused by the wrong syntax in the code. It leads to the termination of the program then we call it ****Syntex Erron****.\n",
    "\n",
    "****Exceptions****:- ****Exceptions**** are raised when the program is syntactically correct, but the code results in an error. This error does not stop the execution of the program, however, it changes the normal flow of the program."
   ]
  },
  {
   "cell_type": "markdown",
   "id": "ca209b75-a4f4-4e54-bceb-4f1f3c639e04",
   "metadata": {},
   "source": [
    "### Q2. What happens when an exception is not handled? Explain with an example  "
   ]
  },
  {
   "cell_type": "markdown",
   "id": "188c7fa7-5061-4731-8713-e526f182cd18",
   "metadata": {},
   "source": [
    "Answer:- When an exception is not handled, it can lead to unexpected behavior and program termination."
   ]
  },
  {
   "cell_type": "code",
   "execution_count": 2,
   "id": "9d94d5b3-5c4a-4570-a521-95406e983a86",
   "metadata": {},
   "outputs": [],
   "source": [
    "# Example:\n",
    "def details():\n",
    "    name = input(\"Name:- \")\n",
    "    phone_n = int(input(\"Phone Number:- \"))\n",
    "    print(name)\n",
    "    print(phone_n)"
   ]
  },
  {
   "cell_type": "code",
   "execution_count": 3,
   "id": "a91c77a8-05bb-4d75-b604-a29fca4a4e60",
   "metadata": {},
   "outputs": [
    {
     "name": "stdin",
     "output_type": "stream",
     "text": [
      "Name:-  Aniruddh\n",
      "Phone Number:-  465\n"
     ]
    },
    {
     "name": "stdout",
     "output_type": "stream",
     "text": [
      "Aniruddh\n",
      "465\n"
     ]
    }
   ],
   "source": [
    "details()"
   ]
  },
  {
   "cell_type": "markdown",
   "id": "aad3e213-7417-4029-b8fd-4e3af3ccabba",
   "metadata": {},
   "source": [
    "In this case you can see that I had enterd the phone number of less than 10 digit but it run the code without any error which is incorrect. So to solve this problem we use exception "
   ]
  },
  {
   "cell_type": "code",
   "execution_count": 4,
   "id": "e2958dec-3d0b-48dd-bb6c-98a98b219884",
   "metadata": {},
   "outputs": [],
   "source": [
    "class phonenumbererror(Exception):\n",
    "    def __init__(self, msg):\n",
    "        self.msg = msg\n",
    "def phone(phone_n):\n",
    "    if len(phone_n) != 10:\n",
    "        raise phonenumbererror(\"The phone number should be of 10 digits\")\n",
    "    else:\n",
    "        print(phone_n)"
   ]
  },
  {
   "cell_type": "code",
   "execution_count": 5,
   "id": "fe7a134d-382c-4a1b-8d0a-6c8f66e17003",
   "metadata": {},
   "outputs": [],
   "source": [
    "def errors():\n",
    "    try:\n",
    "        name = input(\"Name: \")\n",
    "        phone_n = input(\"Phone Number: \")\n",
    "        print(name)\n",
    "        phone(phone_n)\n",
    "        \n",
    "        \n",
    "    except phonenumbererror as e:\n",
    "        print(e)"
   ]
  },
  {
   "cell_type": "code",
   "execution_count": 6,
   "id": "f8295413-9818-4e9f-96c1-6d41b828ce21",
   "metadata": {},
   "outputs": [
    {
     "name": "stdin",
     "output_type": "stream",
     "text": [
      "Name:  adfs\n",
      "Phone Number:  6543\n"
     ]
    },
    {
     "name": "stdout",
     "output_type": "stream",
     "text": [
      "adfs\n",
      "The phone number should be of 10 digits\n"
     ]
    }
   ],
   "source": [
    "errors()"
   ]
  },
  {
   "cell_type": "code",
   "execution_count": 7,
   "id": "bea06a60-4e6d-4f28-b9d2-629af75aefc9",
   "metadata": {},
   "outputs": [
    {
     "name": "stdin",
     "output_type": "stream",
     "text": [
      "Name:  fsd\n",
      "Phone Number:  9424669633\n"
     ]
    },
    {
     "name": "stdout",
     "output_type": "stream",
     "text": [
      "fsd\n",
      "9424669633\n"
     ]
    }
   ],
   "source": [
    "errors()"
   ]
  },
  {
   "cell_type": "markdown",
   "id": "b2f8e6f6-8db2-4c91-8cba-cf0968191a4f",
   "metadata": {},
   "source": [
    "### Q3. Which Python statements are used to catch and handle exceptions? Explain with an example  "
   ]
  },
  {
   "cell_type": "markdown",
   "id": "3b7a2c34-14a2-4af9-af7f-7376ad06ba74",
   "metadata": {},
   "source": [
    "In Python, the try and except statements are used to catch and handle exceptions. The try block is used to enclose the code that may potentially raise an exception, while the except block specifies the type of exception it can handle and contains the code to handle the exception."
   ]
  },
  {
   "cell_type": "code",
   "execution_count": 8,
   "id": "5d70d230-5257-4961-92cb-b96dd8e47265",
   "metadata": {},
   "outputs": [
    {
     "name": "stdin",
     "output_type": "stream",
     "text": [
      "Enter a number:  10\n",
      "Enter another number:  0\n"
     ]
    },
    {
     "name": "stdout",
     "output_type": "stream",
     "text": [
      "Cannot divide by zero.\n"
     ]
    }
   ],
   "source": [
    "try:\n",
    "    num1 = int(input(\"Enter a number: \"))\n",
    "    num2 = int(input(\"Enter another number: \"))\n",
    "    result = num1 / num2\n",
    "    print(\"Result:\", result)\n",
    "except ValueError:\n",
    "    print(\"Invalid input. Please enter valid numbers.\")\n",
    "except ZeroDivisionError:\n",
    "    print(\"Cannot divide by zero.\")\n"
   ]
  },
  {
   "cell_type": "markdown",
   "id": "81b6eff2-70ad-4ac5-8dba-7509472f4483",
   "metadata": {},
   "source": [
    "### Q4. Explain with an example:\n",
    "- Try and else\n",
    "- Finally\n",
    "- Raise"
   ]
  },
  {
   "cell_type": "markdown",
   "id": "1d5af3a5-e6b0-4270-bb98-92804e9b1a0b",
   "metadata": {},
   "source": [
    "**Else**:- The else statement in Python is used along with the try and except statements to define a block of code that should be executed only if no exceptions occur in the try block. It provides an alternative path of execution when no exceptions are raised."
   ]
  },
  {
   "cell_type": "code",
   "execution_count": 9,
   "id": "6eb2b974-b43c-46a8-9ade-da3875d203ef",
   "metadata": {},
   "outputs": [
    {
     "name": "stdin",
     "output_type": "stream",
     "text": [
      "Enter a number:  10\n",
      "Enter another number:  0\n"
     ]
    },
    {
     "name": "stdout",
     "output_type": "stream",
     "text": [
      "Cannot divide by zero.\n"
     ]
    }
   ],
   "source": [
    "try:\n",
    "    num1 = int(input(\"Enter a number: \"))\n",
    "    num2 = int(input(\"Enter another number: \"))\n",
    "    result = num1 / num2\n",
    "except ValueError:\n",
    "    print(\"Invalid input. Please enter valid numbers.\")\n",
    "except ZeroDivisionError:\n",
    "    print(\"Cannot divide by zero.\")\n",
    "else:\n",
    "    print(\"Result:\", result)"
   ]
  },
  {
   "cell_type": "markdown",
   "id": "bca2d72c-c569-4000-a8ca-177fc01a25b4",
   "metadata": {},
   "source": [
    "**Finally**:- The finally statement in Python is used along with the try and except statements to define a block of code that should be executed regardless of whether an exception occurred or not. The code inside the finally block is executed after the try block and any matching except blocks, even if an exception was raised and caught."
   ]
  },
  {
   "cell_type": "code",
   "execution_count": 10,
   "id": "be44fc80-2ffd-4ad2-a000-1124b0837b6f",
   "metadata": {},
   "outputs": [
    {
     "name": "stdout",
     "output_type": "stream",
     "text": [
      "[Errno 2] No such file or directory: 'test_e5.txt'\n",
      "Finally will execute itself in any situatuion\n"
     ]
    }
   ],
   "source": [
    "try :\n",
    "    f = open(\"test_e5.txt\", \"r\")\n",
    "    f.write(\"Write into my file data buvkdsnh\")\n",
    "except FileNotFoundError as e:\n",
    "    print(e)\n",
    "finally:\n",
    "    print(\"Finally will execute itself in any situatuion\")"
   ]
  },
  {
   "cell_type": "markdown",
   "id": "d122f6bf-3069-4b39-9489-5bdc4d3b538e",
   "metadata": {},
   "source": [
    "**Raise**:- he raise statement in Python is used to explicitly raise an exception. It allows you to manually trigger an exception at a specific point in your code."
   ]
  },
  {
   "cell_type": "code",
   "execution_count": 11,
   "id": "e0185f40-e02f-47ea-a9e7-3473d891fd6c",
   "metadata": {},
   "outputs": [
    {
     "name": "stdin",
     "output_type": "stream",
     "text": [
      "Enter Your Age:-  -12\n"
     ]
    },
    {
     "name": "stdout",
     "output_type": "stream",
     "text": [
      "Entered age is negative\n"
     ]
    }
   ],
   "source": [
    "class validateage(Exception):\n",
    "    def __init__(self, msg):\n",
    "        self.msg = msg\n",
    "def validaeteage(age):\n",
    "    if age<0:\n",
    "        raise validateage(\"Entered age is negative\")\n",
    "    elif age>200:\n",
    "        raise validateage(\"Entered age is very very high\")\n",
    "    else:\n",
    "        print(\"Age is Vaild\")\n",
    "try:\n",
    "    age = int(input(\"Enter Your Age:- \"))\n",
    "    validaeteage(age)\n",
    "    \n",
    "except validateage as e:\n",
    "    print(e)"
   ]
  },
  {
   "cell_type": "markdown",
   "id": "b0cc17c0-3bad-4fdf-8eb8-49889ec1dd04",
   "metadata": {},
   "source": [
    "### Q5. What are Custom Exceptions in python? Why Do we need Custom Exceptions? Explain with an example "
   ]
  },
  {
   "cell_type": "markdown",
   "id": "a1c234a7-1111-4bd8-9244-9ff9fd767576",
   "metadata": {},
   "source": [
    "Custom exceptions in Python are user-defined exception classes that allow you to create your own specific exception types. These exceptions can be raised in your code to handle specific error conditions or exceptional situations that are not covered by the built-in exception"
   ]
  },
  {
   "cell_type": "code",
   "execution_count": 12,
   "id": "2a0318ea-a6b2-47c6-9c89-2ca314c2ce8c",
   "metadata": {},
   "outputs": [
    {
     "name": "stdin",
     "output_type": "stream",
     "text": [
      "Enter a number:  -32\n"
     ]
    },
    {
     "name": "stdout",
     "output_type": "stream",
     "text": [
      "Invalid input: Input must be a non-negative number.\n"
     ]
    }
   ],
   "source": [
    "class InvalidInputError(Exception):\n",
    "    pass\n",
    "\n",
    "def calculate_square_root(num):\n",
    "    if num < 0:\n",
    "        raise InvalidInputError(\"Input must be a non-negative number.\")\n",
    "    else:\n",
    "        return num ** 0.5\n",
    "\n",
    "try:\n",
    "    number = float(input(\"Enter a number: \"))\n",
    "    result = calculate_square_root(number)\n",
    "    print(\"Square root:\", result)\n",
    "except InvalidInputError as e:\n",
    "    print(\"Invalid input:\", str(e))\n"
   ]
  },
  {
   "cell_type": "markdown",
   "id": "68219216-585f-4d6b-820d-8acd25b208c0",
   "metadata": {},
   "source": [
    "### Q6. Create a custom exception class. Use this class to handle an exception. "
   ]
  },
  {
   "cell_type": "code",
   "execution_count": 13,
   "id": "158bd216-5782-48da-b395-d5d4a2344982",
   "metadata": {},
   "outputs": [],
   "source": [
    "class phonenumbererror(Exception):\n",
    "    def __init__(self, msg):\n",
    "        self.msg = msg\n",
    "def phone(phone_n):\n",
    "    if len(phone_n) != 10:\n",
    "        raise phonenumbererror(\"The phone number should be of 10 digits\")\n",
    "    else:\n",
    "        print(phone_n)"
   ]
  },
  {
   "cell_type": "code",
   "execution_count": 14,
   "id": "bd154911-cd6e-4770-8f0b-8e291115dcbf",
   "metadata": {},
   "outputs": [],
   "source": [
    "def errors():\n",
    "    try:\n",
    "        name = input(\"Name: \")\n",
    "        phone_n = input(\"Phone Number: \")\n",
    "        print(name)\n",
    "        phone(phone_n)\n",
    "        \n",
    "        \n",
    "    except phonenumbererror as e:\n",
    "        print(e)"
   ]
  },
  {
   "cell_type": "code",
   "execution_count": 15,
   "id": "f59c665d-5d78-4945-9970-38b1edef737d",
   "metadata": {},
   "outputs": [
    {
     "name": "stdin",
     "output_type": "stream",
     "text": [
      "Name:  Aniruddh\n",
      "Phone Number:  9424669633\n"
     ]
    },
    {
     "name": "stdout",
     "output_type": "stream",
     "text": [
      "Aniruddh\n",
      "9424669633\n"
     ]
    }
   ],
   "source": [
    "errors()"
   ]
  },
  {
   "cell_type": "code",
   "execution_count": 16,
   "id": "3bbb56c7-ff55-4332-99f0-3515862c55da",
   "metadata": {},
   "outputs": [
    {
     "name": "stdin",
     "output_type": "stream",
     "text": [
      "Name:  Aniruddh\n",
      "Phone Number:  9424\n"
     ]
    },
    {
     "name": "stdout",
     "output_type": "stream",
     "text": [
      "Aniruddh\n",
      "The phone number should be of 10 digits\n"
     ]
    }
   ],
   "source": [
    "errors()"
   ]
  },
  {
   "cell_type": "code",
   "execution_count": null,
   "id": "451d6e32-3859-4ed8-9dc8-ad74679ad523",
   "metadata": {},
   "outputs": [],
   "source": []
  },
  {
   "cell_type": "code",
   "execution_count": null,
   "id": "093047b2-7e26-4b8f-989d-b51e9d329cde",
   "metadata": {},
   "outputs": [],
   "source": []
  }
 ],
 "metadata": {
  "kernelspec": {
   "display_name": "Python 3 (ipykernel)",
   "language": "python",
   "name": "python3"
  },
  "language_info": {
   "codemirror_mode": {
    "name": "ipython",
    "version": 3
   },
   "file_extension": ".py",
   "mimetype": "text/x-python",
   "name": "python",
   "nbconvert_exporter": "python",
   "pygments_lexer": "ipython3",
   "version": "3.10.8"
  }
 },
 "nbformat": 4,
 "nbformat_minor": 5
}
