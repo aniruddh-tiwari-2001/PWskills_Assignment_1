{
 "cells": [
  {
   "cell_type": "markdown",
   "id": "07738d0c-d52c-431f-98f6-f09525e126c8",
   "metadata": {},
   "source": [
    "# OOPS Assignment-2\n",
    "## Python - Week 4 OOPs Concepts\n",
    "## Code By - Aniruddh Tiwari"
   ]
  },
  {
   "cell_type": "markdown",
   "id": "13bc02e4-44d8-4755-a57a-b8831ba81a5a",
   "metadata": {},
   "source": [
    "### Q1. What is Abstraction in OOps? Explain with an example."
   ]
  },
  {
   "cell_type": "markdown",
   "id": "9e927e08-3797-491a-a751-81b201ffe593",
   "metadata": {},
   "source": [
    "we can say that abstraction is used to create a blueprint of a class. Abstraction is a fundamental concept in object-oriented programming (OOP) that allows us to represent the essential features and behavior of an object while hiding the unnecessary details. In the context of classes, abstraction involves defining the common attributes and methods that are relevant to a particular type of objects, while abstracting away the specific implementation details."
   ]
  },
  {
   "cell_type": "code",
   "execution_count": 1,
   "id": "6d4079f5-b096-45ad-9489-afa00496110c",
   "metadata": {},
   "outputs": [],
   "source": [
    "import abc\n",
    "class pwskills:\n",
    "    \n",
    "    @abc.abstractclassmethod\n",
    "    def student_details(self):\n",
    "        pass\n",
    "    \n",
    "    @abc.abstractclassmethod\n",
    "    def student_assignment(self):\n",
    "        pass\n",
    "    \n",
    "    @abc.abstractclassmethod\n",
    "    def student_marks(self):\n",
    "        pass"
   ]
  },
  {
   "cell_type": "code",
   "execution_count": 2,
   "id": "86a5ec49-61e0-418f-b742-0e51b121abf2",
   "metadata": {},
   "outputs": [],
   "source": [
    "class student_detials(pwskills):\n",
    "    \n",
    "    def student_detials(self):\n",
    "        return \"This is a methos for taking student details\"\n",
    "    \n",
    "    def student_assignment(self):\n",
    "        return \"This is a method for assing details for a perticualt student\""
   ]
  },
  {
   "cell_type": "code",
   "execution_count": 3,
   "id": "893c16b4-09e8-42ca-b8a6-3facfa9a6290",
   "metadata": {},
   "outputs": [],
   "source": [
    "class data_science_maters(pwskills):\n",
    "    def student_details(self):\n",
    "        return \"This will returs a student details for data science masters\"\n",
    "    \n",
    "    def student_assignment(self):\n",
    "        return \"This will give the details of assignment for data science masters\""
   ]
  },
  {
   "cell_type": "code",
   "execution_count": 4,
   "id": "4187cd74-eaf7-4636-be7e-575bfaa68fbc",
   "metadata": {},
   "outputs": [],
   "source": [
    "sd = student_detials()"
   ]
  },
  {
   "cell_type": "code",
   "execution_count": 5,
   "id": "6202c9e7-2fce-45f2-8c89-d3aa1cd77f0c",
   "metadata": {},
   "outputs": [
    {
     "data": {
      "text/plain": [
       "'This is a methos for taking student details'"
      ]
     },
     "execution_count": 5,
     "metadata": {},
     "output_type": "execute_result"
    }
   ],
   "source": [
    "sd.student_detials()"
   ]
  },
  {
   "cell_type": "code",
   "execution_count": 6,
   "id": "221a484a-6cf2-4a7b-826e-e8e8cecb8d3f",
   "metadata": {},
   "outputs": [
    {
     "data": {
      "text/plain": [
       "'This is a method for assing details for a perticualt student'"
      ]
     },
     "execution_count": 6,
     "metadata": {},
     "output_type": "execute_result"
    }
   ],
   "source": [
    "sd.student_assignment()"
   ]
  },
  {
   "cell_type": "code",
   "execution_count": 7,
   "id": "3663304e-9a67-4684-b067-70bba159bdf8",
   "metadata": {},
   "outputs": [],
   "source": [
    "dsm = data_science_maters()"
   ]
  },
  {
   "cell_type": "code",
   "execution_count": 8,
   "id": "30e8d72c-bb5a-4979-aa29-4ced24355515",
   "metadata": {},
   "outputs": [
    {
     "data": {
      "text/plain": [
       "'This will returs a student details for data science masters'"
      ]
     },
     "execution_count": 8,
     "metadata": {},
     "output_type": "execute_result"
    }
   ],
   "source": [
    "dsm.student_details()"
   ]
  },
  {
   "cell_type": "code",
   "execution_count": 9,
   "id": "f17b3020-0fc9-4d52-af80-1cf3f6a934bd",
   "metadata": {},
   "outputs": [
    {
     "data": {
      "text/plain": [
       "'This will give the details of assignment for data science masters'"
      ]
     },
     "execution_count": 9,
     "metadata": {},
     "output_type": "execute_result"
    }
   ],
   "source": [
    "dsm.student_assignment()"
   ]
  },
  {
   "cell_type": "markdown",
   "id": "792a8281-4158-4528-be19-245643e94dde",
   "metadata": {},
   "source": [
    "### Q2. Differentiate between Abstraction and Encapsulation. Explain with an example."
   ]
  },
  {
   "cell_type": "markdown",
   "id": "929dcc00-310c-469c-aa7f-e5ab080aae81",
   "metadata": {},
   "source": [
    "Abstraction: Abstraction is about simplifying and focusing on the essential features and behavior of an object without worrying about the specific implementation details.\n",
    "\n",
    "Example: Imagine a mobile phone. We can think of it in terms of its essential features, such as making calls, sending messages, and browsing the internet. We don't need to know how the internal components work or how the software is coded. Abstraction allows us to focus on what the phone does rather than how it does it.\n",
    "\n",
    "Encapsulation: Encapsulation is about bundling data and methods into a single unit (a class) and controlling access to them.\n",
    "\n",
    "Example: Let's consider a class called \"BankAccount.\" The class encapsulates data such as the account balance and methods like deposit and withdraw. The internal workings of these methods and data are hidden from external access. Users of the class can interact with the public interface (methods) to deposit or withdraw money, while the internal implementation details remain encapsulated and hidden."
   ]
  },
  {
   "cell_type": "markdown",
   "id": "d4746379-7a30-43f9-a9ce-0c7b7cb4fd20",
   "metadata": {},
   "source": [
    "### Q4. How can we achieve data abstraction?"
   ]
  },
  {
   "cell_type": "code",
   "execution_count": 10,
   "id": "8af3375f-a758-432d-b09f-878ae7e85229",
   "metadata": {},
   "outputs": [],
   "source": [
    "# Abstract base class for accounts\n",
    "class Account:\n",
    "    def __init__(self, account_number, balance):\n",
    "        self.account_number = account_number\n",
    "        self.balance = balance\n",
    "\n",
    "    def deposit(self, amount):\n",
    "        pass\n",
    "\n",
    "    def withdraw(self, amount):\n",
    "        pass\n",
    "\n",
    "    def get_balance(self):\n",
    "        pass\n",
    "\n",
    "# Concrete class for savings accounts\n",
    "class SavingsAccount(Account):\n",
    "    def __init__(self, account_number, balance, interest_rate):\n",
    "        super().__init__(account_number, balance)\n",
    "        self.interest_rate = interest_rate\n",
    "\n",
    "    def deposit(self, amount):\n",
    "        self.balance += amount\n",
    "\n",
    "    def withdraw(self, amount):\n",
    "        if self.balance >= amount:\n",
    "            self.balance -= amount\n",
    "        else:\n",
    "            print(\"Insufficient balance\")\n",
    "\n",
    "    def get_balance(self):\n",
    "        return self.balance + (self.balance * self.interest_rate)\n",
    "\n",
    "# Concrete class for checking accounts\n",
    "class CheckingAccount(Account):\n",
    "    def __init__(self, account_number, balance, overdraft_limit):\n",
    "        super().__init__(account_number, balance)\n",
    "        self.overdraft_limit = overdraft_limit\n",
    "\n",
    "    def deposit(self, amount):\n",
    "        self.balance += amount\n",
    "\n",
    "    def withdraw(self, amount):\n",
    "        if self.balance + self.overdraft_limit >= amount:\n",
    "            self.balance -= amount\n",
    "        else:\n",
    "            print(\"Insufficient funds\")\n",
    "\n",
    "    def get_balance(self):\n",
    "        return self.balance\n",
    "\n"
   ]
  },
  {
   "cell_type": "code",
   "execution_count": 11,
   "id": "1ee7dc85-3f30-469f-a44d-cfa66550cb8b",
   "metadata": {},
   "outputs": [
    {
     "name": "stdout",
     "output_type": "stream",
     "text": [
      "1365.0\n"
     ]
    }
   ],
   "source": [
    "# Usage example\n",
    "savings_acc = SavingsAccount(\"SAV001\", 1000, 0.05)\n",
    "savings_acc.deposit(500)\n",
    "savings_acc.withdraw(200)\n",
    "print(savings_acc.get_balance())"
   ]
  },
  {
   "cell_type": "code",
   "execution_count": 12,
   "id": "6769d904-4660-4520-9b84-65a8300b3b0f",
   "metadata": {},
   "outputs": [
    {
     "name": "stdout",
     "output_type": "stream",
     "text": [
      "1650\n"
     ]
    }
   ],
   "source": [
    "checking_acc = CheckingAccount(\"CHK001\", 2000, 500)\n",
    "checking_acc.withdraw(250) \n",
    "checking_acc.withdraw(100)\n",
    "print(checking_acc.get_balance()) "
   ]
  },
  {
   "cell_type": "markdown",
   "id": "95e8e612-eb28-46d4-8338-945afb4f912b",
   "metadata": {},
   "source": [
    "### Q5. Can we create an instance of an abstract class? Explain your answer."
   ]
  },
  {
   "cell_type": "markdown",
   "id": "3bb3b430-3c80-4164-839c-963a851c7c9f",
   "metadata": {},
   "source": [
    "No, you cannot create an instance of an abstract class. An abstract class is a class that is meant to be inherited from and serves as a blueprint for creating derived classes. It cannot be instantiated on its own."
   ]
  },
  {
   "cell_type": "code",
   "execution_count": 13,
   "id": "c107be61-f3d7-4820-98a8-c8a46005dae2",
   "metadata": {},
   "outputs": [
    {
     "ename": "TypeError",
     "evalue": "Can't instantiate abstract class AbstractClass with abstract method abstract_method",
     "output_type": "error",
     "traceback": [
      "\u001b[0;31m---------------------------------------------------------------------------\u001b[0m",
      "\u001b[0;31mTypeError\u001b[0m                                 Traceback (most recent call last)",
      "Cell \u001b[0;32mIn[13], line 9\u001b[0m\n\u001b[1;32m      6\u001b[0m         \u001b[38;5;28;01mpass\u001b[39;00m\n\u001b[1;32m      8\u001b[0m \u001b[38;5;66;03m# Trying to create an instance of the abstract class\u001b[39;00m\n\u001b[0;32m----> 9\u001b[0m instance \u001b[38;5;241m=\u001b[39m \u001b[43mAbstractClass\u001b[49m\u001b[43m(\u001b[49m\u001b[43m)\u001b[49m  \u001b[38;5;66;03m# This will raise an error\u001b[39;00m\n",
      "\u001b[0;31mTypeError\u001b[0m: Can't instantiate abstract class AbstractClass with abstract method abstract_method"
     ]
    }
   ],
   "source": [
    "from abc import ABC, abstractmethod\n",
    "\n",
    "class AbstractClass(ABC):\n",
    "    @abstractmethod\n",
    "    def abstract_method(self):\n",
    "        pass\n",
    "\n",
    "# Trying to create an instance of the abstract class\n",
    "instance = AbstractClass()  # This will raise an error\n"
   ]
  },
  {
   "cell_type": "code",
   "execution_count": null,
   "id": "ea54562d-ac7f-4d1f-9619-a013bfaff6c3",
   "metadata": {},
   "outputs": [],
   "source": []
  }
 ],
 "metadata": {
  "kernelspec": {
   "display_name": "Python 3 (ipykernel)",
   "language": "python",
   "name": "python3"
  },
  "language_info": {
   "codemirror_mode": {
    "name": "ipython",
    "version": 3
   },
   "file_extension": ".py",
   "mimetype": "text/x-python",
   "name": "python",
   "nbconvert_exporter": "python",
   "pygments_lexer": "ipython3",
   "version": "3.10.8"
  }
 },
 "nbformat": 4,
 "nbformat_minor": 5
}
