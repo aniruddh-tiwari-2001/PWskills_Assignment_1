{
 "cells": [
  {
   "cell_type": "markdown",
   "id": "b104e57a-1b0f-45d6-b9aa-bf7cde2dc6b3",
   "metadata": {},
   "source": [
    "# OOPS Assignment-1\n",
    "## Python - Week 4 OOPs Concepts\n",
    "## Code By - Aniruddh Tiwari"
   ]
  },
  {
   "cell_type": "markdown",
   "id": "96ff7669-d35b-4320-849b-04031f5611c8",
   "metadata": {},
   "source": [
    "### Q1. Explain Class and Object with respect to Object-Oriented Programming. Give a suitable example."
   ]
  },
  {
   "cell_type": "markdown",
   "id": "dfbfe718-5bbd-46b5-a851-1bfd1927ff6d",
   "metadata": {},
   "source": [
    "Class :- Class is a blueprint/template for creating a object\n",
    "\n",
    "Object :- Object is a real-world entity or concept and can interact with other objects. And every object bleongs to a class\n",
    "\n",
    "For Example :- \n",
    "\n",
    "In real life, a car is an object. \n",
    "The car has attributes, such as:\n",
    "- model name \n",
    "- color\n",
    "- brand\n",
    "\n",
    "methods, such as:\n",
    "- drive\n",
    "- brake"
   ]
  },
  {
   "cell_type": "code",
   "execution_count": 1,
   "id": "6d6b3377-ddf2-4089-b93b-009a65ab224e",
   "metadata": {},
   "outputs": [],
   "source": [
    "class car:\n",
    "    def __init__(self, brand,model, color):\n",
    "        self.model = model\n",
    "        self.color = color\n",
    "        self.brand = brand\n",
    "        \n",
    "    def drive(self):\n",
    "        print(f\"I am driving {self.brand} {self.model} in colour {self.color}\")\n",
    "    "
   ]
  },
  {
   "cell_type": "code",
   "execution_count": 2,
   "id": "194cde5a-228a-4f06-b7ee-85337181682f",
   "metadata": {},
   "outputs": [],
   "source": [
    "## Creating an object\n",
    "car_obj = car(\"BMW\", \"Z4\", \"Skyscraper Grey metallic\")"
   ]
  },
  {
   "cell_type": "code",
   "execution_count": 3,
   "id": "e25db4e0-e984-40ec-9015-ce4f05caeb3c",
   "metadata": {},
   "outputs": [
    {
     "name": "stdout",
     "output_type": "stream",
     "text": [
      "I am driving BMW Z4 in colour Skyscraper Grey metallic\n"
     ]
    }
   ],
   "source": [
    "car_obj.drive()"
   ]
  },
  {
   "cell_type": "markdown",
   "id": "48c4ab03-3462-4b84-86b3-2e0cb53d14f0",
   "metadata": {},
   "source": [
    "### Q2. Name the four pillars of OOPs."
   ]
  },
  {
   "cell_type": "markdown",
   "id": "5672d4e6-6987-4886-b09b-063cabaf3be0",
   "metadata": {},
   "source": [
    "The Four Pillars of OOPs are:\n",
    "1. Inheritance\n",
    "        \n",
    "        1.1 Multiple Inheritance\n",
    "        \n",
    "        1.2 Multilevel Inheritance\n",
    "        \n",
    "2. Polymorphism\n",
    "\n",
    "3. Encapsulation\n",
    "\n",
    "4. Abstraction"
   ]
  },
  {
   "cell_type": "markdown",
   "id": "5f3af4d1-9a6e-4847-808c-d462dc2a3072",
   "metadata": {},
   "source": [
    "### Q3. Explain why the __ init __() function is used. Give a suitable example. "
   ]
  },
  {
   "cell_type": "markdown",
   "id": "fb3571a0-7655-4698-aee1-ec42e577ae4f",
   "metadata": {},
   "source": [
    "Use the __init__() function to assign values to object properties\n",
    "\n",
    "The __init__() method is often referred to as the constructor of a class because it is responsible for initializing the object. It is defined within the class and takes the self parameter as the first argument, which represents the instance of the class being created. Other arguments can also be included in the __init__() method to specify initial values for the object's attributes."
   ]
  },
  {
   "cell_type": "code",
   "execution_count": 4,
   "id": "1041e915-fb6e-45e6-a404-1cc201cd50e1",
   "metadata": {},
   "outputs": [],
   "source": [
    "class Person:\n",
    "    def __init__(self, name, age):\n",
    "        self.name = name\n",
    "        self.age = age\n",
    "\n",
    "    def display_info(self):\n",
    "        print(\"Name:\", self.name)\n",
    "        print(\"Age:\", self.age)\n"
   ]
  },
  {
   "cell_type": "code",
   "execution_count": 5,
   "id": "7bae4b06-57ee-4f62-845d-f226e4862d03",
   "metadata": {},
   "outputs": [
    {
     "name": "stdout",
     "output_type": "stream",
     "text": [
      "Name: John\n",
      "Age: 25\n",
      "Name: Alice\n",
      "Age: 30\n"
     ]
    }
   ],
   "source": [
    "# Creating objects of the Person class\n",
    "person1 = Person(\"John\", 25)\n",
    "person2 = Person(\"Alice\", 30)\n",
    "\n",
    "# Accessing object attributes and methods\n",
    "person1.display_info()\n",
    "person2.display_info()"
   ]
  },
  {
   "cell_type": "markdown",
   "id": "58cda081-0d9f-40cf-b337-465354c7ac08",
   "metadata": {},
   "source": [
    "### Q4. Why self is used in OOPs?"
   ]
  },
  {
   "cell_type": "markdown",
   "id": "a910cb3d-1a11-4b11-9133-7b375b5dea75",
   "metadata": {},
   "source": [
    "self is a variable that contains the memory reference of the current object. In Python, self is the conventional name used as the first parameter of instance methods within a class. It is not a reserved keyword but is widely followed as a naming convention.\n",
    "\n",
    "When a method is called on an instance of a class, the instance itself is automatically passed as the first argument to the method, and by convention, this argument is named self. It allows the method to access and operate on the instance's attributes and methods."
   ]
  },
  {
   "cell_type": "markdown",
   "id": "952a9c36-6e70-4a3c-a4de-0ac42f5e8a5f",
   "metadata": {},
   "source": [
    "### Q5. What is inheritance? Give an example for each type of inheritance."
   ]
  },
  {
   "cell_type": "markdown",
   "id": "f5c54d42-1286-4094-975c-2b67a8d25e98",
   "metadata": {},
   "source": [
    "inherit attributes and methods from one class to another. We group the \"inheritance concept\" into two categories:\n",
    "\n",
    "derived class (child) - the class that inherits from another class\n",
    "base class (parent) - the class being inherited from\n",
    "\n",
    "Type of Inheritance:\n",
    "- Multiple Inheritance\n",
    "- Multilevel Inheritance"
   ]
  },
  {
   "cell_type": "code",
   "execution_count": 6,
   "id": "fb1ebfe0-d64b-45de-9e22-f2cd84b529a2",
   "metadata": {},
   "outputs": [],
   "source": [
    "## Inheritance\n",
    "class test:\n",
    "    \n",
    "    def test_meth(self): #self create a pointer or a refrence towards a class\n",
    "        return \"This is my First class\"\n",
    "class child_test(test):\n",
    "    pass"
   ]
  },
  {
   "cell_type": "code",
   "execution_count": 7,
   "id": "cb31f1d0-c1cc-4ffd-9a0c-e61646b1e115",
   "metadata": {},
   "outputs": [],
   "source": [
    "child_test_obj = child_test()"
   ]
  },
  {
   "cell_type": "code",
   "execution_count": 8,
   "id": "855f10a3-248b-44a6-b297-ad0661536359",
   "metadata": {},
   "outputs": [
    {
     "data": {
      "text/plain": [
       "'This is my First class'"
      ]
     },
     "execution_count": 8,
     "metadata": {},
     "output_type": "execute_result"
    }
   ],
   "source": [
    "child_test_obj.test_meth()"
   ]
  },
  {
   "cell_type": "code",
   "execution_count": 9,
   "id": "6a78792e-930e-4efb-b2e4-3fd4c4fba5f0",
   "metadata": {},
   "outputs": [],
   "source": [
    "## Multilevel Inheritance\n",
    "class class1:\n",
    "    \n",
    "    def test_class1(self):\n",
    "        return \"This is a method from Class1\"\n",
    "    \n",
    "class class2(class1):\n",
    "    def test_class2(self):\n",
    "        return \"This is a method from class2\"\n",
    "\n",
    "class class3(class2):\n",
    "    pass"
   ]
  },
  {
   "cell_type": "code",
   "execution_count": 10,
   "id": "a1ffeff4-6aa9-4d72-a349-98aec332bc42",
   "metadata": {},
   "outputs": [],
   "source": [
    "class3_obj = class3()"
   ]
  },
  {
   "cell_type": "code",
   "execution_count": 11,
   "id": "c74129d3-f596-401e-9069-14c0507f7afa",
   "metadata": {},
   "outputs": [
    {
     "data": {
      "text/plain": [
       "'This is a method from Class1'"
      ]
     },
     "execution_count": 11,
     "metadata": {},
     "output_type": "execute_result"
    }
   ],
   "source": [
    "class3_obj.test_class1()"
   ]
  },
  {
   "cell_type": "code",
   "execution_count": 12,
   "id": "89197116-ab3f-4cab-a01e-774e39696919",
   "metadata": {},
   "outputs": [
    {
     "data": {
      "text/plain": [
       "'This is a method from class2'"
      ]
     },
     "execution_count": 12,
     "metadata": {},
     "output_type": "execute_result"
    }
   ],
   "source": [
    "class3_obj.test_class2()"
   ]
  },
  {
   "cell_type": "code",
   "execution_count": 13,
   "id": "64923846-bac9-4003-9766-bf240fa63b1d",
   "metadata": {},
   "outputs": [],
   "source": [
    "## Multiple Inheritance\n",
    "class class1:\n",
    "    def test_class1(self):\n",
    "        return \"this is class 1\"\n",
    "class class2:\n",
    "    def test_class2(self):\n",
    "        return \"This is class 2\"\n",
    "class class3(class1, class2):\n",
    "    pass"
   ]
  },
  {
   "cell_type": "code",
   "execution_count": 14,
   "id": "6907c025-94bf-4154-a2a8-45286d3cd694",
   "metadata": {},
   "outputs": [],
   "source": [
    "class3_obj = class3()"
   ]
  },
  {
   "cell_type": "code",
   "execution_count": 15,
   "id": "b64af45f-584e-43f0-8e0a-e4d91920b8d1",
   "metadata": {},
   "outputs": [
    {
     "data": {
      "text/plain": [
       "'this is class 1'"
      ]
     },
     "execution_count": 15,
     "metadata": {},
     "output_type": "execute_result"
    }
   ],
   "source": [
    "class3_obj.test_class1()"
   ]
  },
  {
   "cell_type": "code",
   "execution_count": 16,
   "id": "b5ef1575-1884-4ccc-945f-891487bb954a",
   "metadata": {},
   "outputs": [
    {
     "data": {
      "text/plain": [
       "'This is class 2'"
      ]
     },
     "execution_count": 16,
     "metadata": {},
     "output_type": "execute_result"
    }
   ],
   "source": [
    "class3_obj.test_class2()"
   ]
  }
 ],
 "metadata": {
  "kernelspec": {
   "display_name": "Python 3 (ipykernel)",
   "language": "python",
   "name": "python3"
  },
  "language_info": {
   "codemirror_mode": {
    "name": "ipython",
    "version": 3
   },
   "file_extension": ".py",
   "mimetype": "text/x-python",
   "name": "python",
   "nbconvert_exporter": "python",
   "pygments_lexer": "ipython3",
   "version": "3.10.8"
  }
 },
 "nbformat": 4,
 "nbformat_minor": 5
}
