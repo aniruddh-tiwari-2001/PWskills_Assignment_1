{
 "cells": [
  {
   "cell_type": "markdown",
   "id": "c4f29f28-68d6-4ac5-b6c2-e98006602465",
   "metadata": {},
   "source": [
    "# Assignment-2\n",
    "## Week - 2\n",
    "## Python - Data Structure \n",
    "## Code By - Aniruddh Tiwari"
   ]
  },
  {
   "cell_type": "markdown",
   "id": "a9d53019-ee27-45bc-a7c1-26a8e1d0ddf2",
   "metadata": {},
   "source": [
    "### Q1) How do you comment code in Python? What are the different types of comments?"
   ]
  },
  {
   "cell_type": "markdown",
   "id": "74b2fc4a-308c-4da8-b5c2-236b26a9e563",
   "metadata": {},
   "source": [
    "We use (#) command to comment in Python for single line comment and for multi-line comments or block comments in Python we use doc-string to comment (\"\"\")"
   ]
  },
  {
   "cell_type": "code",
   "execution_count": 1,
   "id": "8848ce4d-cc1f-4143-8bab-456bd594f5a3",
   "metadata": {},
   "outputs": [],
   "source": [
    "# for single line comment"
   ]
  },
  {
   "cell_type": "code",
   "execution_count": 2,
   "id": "881cd287-a013-480b-b943-bf07fea9c09c",
   "metadata": {},
   "outputs": [
    {
     "data": {
      "text/plain": [
       "'\\nUsing multi-line comments or block comments in Python \\nby Doc String \\n'"
      ]
     },
     "execution_count": 2,
     "metadata": {},
     "output_type": "execute_result"
    }
   ],
   "source": [
    "\"\"\"\n",
    "Using multi-line comments or block comments in Python \n",
    "by Doc String \n",
    "\"\"\""
   ]
  },
  {
   "cell_type": "markdown",
   "id": "a6ae1dc1-8365-4149-8fb7-52d8c4b30096",
   "metadata": {},
   "source": [
    "### Q2) What are variables in Python? How do you declare and assign values to variables?"
   ]
  },
  {
   "cell_type": "markdown",
   "id": "f6374af2-6431-4cb1-be3d-975da383ee14",
   "metadata": {},
   "source": [
    "In Python variable is used to store and manipulate data. A name to a location where the data is stored is variable"
   ]
  },
  {
   "cell_type": "code",
   "execution_count": 3,
   "id": "1fbf32db-3247-48c7-8e46-6da7a7abff3b",
   "metadata": {},
   "outputs": [],
   "source": [
    "message = \"Hello World\""
   ]
  },
  {
   "cell_type": "markdown",
   "id": "9e98e593-d77d-47f7-85d0-6a71bc798ccd",
   "metadata": {},
   "source": [
    "In this code we had declare a variable named \"message\" and used assignment operator (=) to assigne a value \"Hello World\" to the variable"
   ]
  },
  {
   "cell_type": "markdown",
   "id": "80acd077-ad09-47ec-bc94-77e9137d203f",
   "metadata": {},
   "source": [
    "### Q3) How do you convert one data type to another in Python?"
   ]
  },
  {
   "cell_type": "markdown",
   "id": "c3e8b4e7-52a4-4cec-9ed7-8f9752232893",
   "metadata": {},
   "source": [
    "In python we use type conversion functions:\n",
    "- int() = for converting the data into integer data type.\n",
    "- float() = for converting the data into float data type.\n",
    "- str() = for converting the data into string data type.\n",
    "- bool() = for converting the data into boolean data type."
   ]
  },
  {
   "cell_type": "code",
   "execution_count": 4,
   "id": "3a9934b5-0065-4f66-956e-ccd9e640ae22",
   "metadata": {},
   "outputs": [
    {
     "name": "stdin",
     "output_type": "stream",
     "text": [
      "Enter the Data :  45\n"
     ]
    },
    {
     "data": {
      "text/plain": [
       "'45'"
      ]
     },
     "execution_count": 4,
     "metadata": {},
     "output_type": "execute_result"
    }
   ],
   "source": [
    "x = input(\"Enter the Data : \")\n",
    "x"
   ]
  },
  {
   "cell_type": "code",
   "execution_count": 5,
   "id": "c7384355-3bad-42f7-b7dc-667ce01b7828",
   "metadata": {},
   "outputs": [
    {
     "data": {
      "text/plain": [
       "str"
      ]
     },
     "execution_count": 5,
     "metadata": {},
     "output_type": "execute_result"
    }
   ],
   "source": [
    "type(x) # in this code you can see the data type is currently String"
   ]
  },
  {
   "cell_type": "code",
   "execution_count": 6,
   "id": "f4e33ce7-f123-46c1-b358-754cd5650276",
   "metadata": {},
   "outputs": [
    {
     "data": {
      "text/plain": [
       "45"
      ]
     },
     "execution_count": 6,
     "metadata": {},
     "output_type": "execute_result"
    }
   ],
   "source": [
    "x = int(x) # Now I had used int type conversion functions for converting the string data into integer\n",
    "x"
   ]
  },
  {
   "cell_type": "code",
   "execution_count": 7,
   "id": "bfa85b9c-20e4-4e7e-965b-efae1a99517d",
   "metadata": {},
   "outputs": [
    {
     "data": {
      "text/plain": [
       "int"
      ]
     },
     "execution_count": 7,
     "metadata": {},
     "output_type": "execute_result"
    }
   ],
   "source": [
    "type(x)"
   ]
  },
  {
   "cell_type": "code",
   "execution_count": 8,
   "id": "8bd2e604-a29f-4c0c-812a-31b17f22e178",
   "metadata": {},
   "outputs": [
    {
     "data": {
      "text/plain": [
       "45.0"
      ]
     },
     "execution_count": 8,
     "metadata": {},
     "output_type": "execute_result"
    }
   ],
   "source": [
    "x = float(x) # Now I had used float type conversion functions for converting the integer data into float\n",
    "x"
   ]
  },
  {
   "cell_type": "code",
   "execution_count": 9,
   "id": "c73d42f8-16ba-4afa-9415-8707396586bd",
   "metadata": {},
   "outputs": [
    {
     "data": {
      "text/plain": [
       "float"
      ]
     },
     "execution_count": 9,
     "metadata": {},
     "output_type": "execute_result"
    }
   ],
   "source": [
    "type(x)"
   ]
  },
  {
   "cell_type": "code",
   "execution_count": 10,
   "id": "e8cd67af-5313-4e3a-91a4-84b2ea78e0d5",
   "metadata": {},
   "outputs": [
    {
     "data": {
      "text/plain": [
       "'45.0'"
      ]
     },
     "execution_count": 10,
     "metadata": {},
     "output_type": "execute_result"
    }
   ],
   "source": [
    "x = str(x) # Now I had used str type conversion functions for converting the float data into string\n",
    "x"
   ]
  },
  {
   "cell_type": "code",
   "execution_count": 11,
   "id": "35a29a6b-422d-40c1-a899-c81af0708dc2",
   "metadata": {},
   "outputs": [
    {
     "data": {
      "text/plain": [
       "str"
      ]
     },
     "execution_count": 11,
     "metadata": {},
     "output_type": "execute_result"
    }
   ],
   "source": [
    "type(x)"
   ]
  },
  {
   "cell_type": "markdown",
   "id": "cfc37f3a-57dd-4c56-a3eb-e3e1d6837c2d",
   "metadata": {},
   "source": [
    "### Q4) How do you write and execute a Python script from the command line?"
   ]
  },
  {
   "cell_type": "markdown",
   "id": "e93cc868-8a7b-47bc-9d3c-939c5dd4da41",
   "metadata": {},
   "source": [
    "To write and execute a Python script from the command line, you can follow these steps:\n",
    "\n",
    "- Open a text editor or an integrated development environment (IDE) to write your Python script. Create a new file and write your Python code in it.\n",
    "- Save the file with a .py extension. \n",
    "- Open a command prompt or terminal window.\n",
    "- Navigate to the directory where the Python script is saved. You can use the cd command to change directories. For example, if your script is saved in the Documents folder, you can navigate to it using the command: cd Documents\n",
    "- Once you are in the correct directory, you can execute the Python script by running the following command: python filename.py here the python is the command to run the Python interpreter, and filename.py is the name of the Python script file.\n",
    "- Press the Enter key, and the Python script will be executed. In this example, the output will be:"
   ]
  },
  {
   "cell_type": "markdown",
   "id": "a166bf36-b989-40ee-b7ae-a46de905aefa",
   "metadata": {},
   "source": [
    "### Q5) Given a list my_list = [1, 2, 3, 4, 5], write the code to slice the list and obtain the sub-list [2, 3]."
   ]
  },
  {
   "cell_type": "code",
   "execution_count": 12,
   "id": "4ef8a7ac-f51d-478e-8064-db6bbfcc14fd",
   "metadata": {},
   "outputs": [
    {
     "data": {
      "text/plain": [
       "[1, 2, 3, 4, 5]"
      ]
     },
     "execution_count": 12,
     "metadata": {},
     "output_type": "execute_result"
    }
   ],
   "source": [
    "my_list = [1, 2, 3, 4, 5]\n",
    "my_list"
   ]
  },
  {
   "cell_type": "code",
   "execution_count": 13,
   "id": "b18f4dfd-fade-4e1c-b339-60714c72afc7",
   "metadata": {},
   "outputs": [
    {
     "data": {
      "text/plain": [
       "[2, 3]"
      ]
     },
     "execution_count": 13,
     "metadata": {},
     "output_type": "execute_result"
    }
   ],
   "source": [
    "sub_list = my_list[1:3]\n",
    "sub_list"
   ]
  },
  {
   "cell_type": "markdown",
   "id": "ce1e9d59-afa3-417b-857d-6dbfa9769dc4",
   "metadata": {},
   "source": [
    "### Q6) What is a complex number in mathematics, and how is it represented in Python?"
   ]
  },
  {
   "cell_type": "code",
   "execution_count": 14,
   "id": "8400d334-2cb8-4588-bd58-a04c19400825",
   "metadata": {},
   "outputs": [
    {
     "name": "stdout",
     "output_type": "stream",
     "text": [
      "Complex number in mathematics:- 6+9i\n",
      "Complex number in Python:- (6+9j)\n"
     ]
    }
   ],
   "source": [
    "print(\"Complex number in mathematics:- 6+9i\")\n",
    "x = 6+9j\n",
    "print(f\"Complex number in Python:- {x}\")"
   ]
  },
  {
   "cell_type": "markdown",
   "id": "c45be122-6a00-4ea8-9c52-4bfa8a24e40a",
   "metadata": {},
   "source": [
    "### Q7) What is the correct way to declare a variable named age and assign the value 25 to it?"
   ]
  },
  {
   "cell_type": "code",
   "execution_count": 15,
   "id": "37143967-90b7-4fdf-91dd-7c10e5fc21b8",
   "metadata": {},
   "outputs": [],
   "source": [
    "age = 22"
   ]
  },
  {
   "cell_type": "code",
   "execution_count": 16,
   "id": "2c01c319-592d-4eca-ade2-d4783db84ef2",
   "metadata": {},
   "outputs": [
    {
     "name": "stdout",
     "output_type": "stream",
     "text": [
      "22\n"
     ]
    }
   ],
   "source": [
    "print(age)"
   ]
  },
  {
   "cell_type": "markdown",
   "id": "bfa23941-65d1-483a-bfda-c2537563d296",
   "metadata": {},
   "source": [
    "In this case, age is the variable name, and 22 is the value being assigned to it. The = sign is the assignment operator used to assign the value to the variable."
   ]
  },
  {
   "cell_type": "markdown",
   "id": "7b9b03de-0c29-41f0-a1c0-3fb337f497f4",
   "metadata": {},
   "source": [
    "### Q8) Declare a variable named price and assign the value 9.99 to it. What data type does this variable belong to?"
   ]
  },
  {
   "cell_type": "code",
   "execution_count": 17,
   "id": "33b1c44e-8b29-4743-9400-1ffd00955dec",
   "metadata": {},
   "outputs": [
    {
     "name": "stdout",
     "output_type": "stream",
     "text": [
      "9.99\n"
     ]
    },
    {
     "data": {
      "text/plain": [
       "float"
      ]
     },
     "execution_count": 17,
     "metadata": {},
     "output_type": "execute_result"
    }
   ],
   "source": [
    "price = 9.99\n",
    "print(price)\n",
    "type(price)"
   ]
  },
  {
   "cell_type": "markdown",
   "id": "fcc2f0d8-5d0f-46bb-935c-48a69ede5188",
   "metadata": {},
   "source": [
    "In this case, price is the variable name, and 9.99 is the value being assigned to it. The value 9.99 is a decimal number, so the variable price belongs to the data type called \"float,\" which represents floating-point numbers in Python."
   ]
  },
  {
   "cell_type": "markdown",
   "id": "158e68cb-a955-4bc0-9c6f-07085ba1a860",
   "metadata": {},
   "source": [
    "### Q9. Create a variable named name and assign your full name to it as a string. How would you print the value of this variable?"
   ]
  },
  {
   "cell_type": "code",
   "execution_count": 18,
   "id": "161edbfb-2ddd-4b6f-8f05-8b6baf2b79a4",
   "metadata": {},
   "outputs": [
    {
     "name": "stdout",
     "output_type": "stream",
     "text": [
      "Aniruddh Tiwari\n"
     ]
    },
    {
     "data": {
      "text/plain": [
       "str"
      ]
     },
     "execution_count": 18,
     "metadata": {},
     "output_type": "execute_result"
    }
   ],
   "source": [
    "name = 'Aniruddh Tiwari'\n",
    "print(name)\n",
    "type(name)"
   ]
  },
  {
   "cell_type": "markdown",
   "id": "19c3942b-d029-430f-943b-ae981f4af034",
   "metadata": {},
   "source": [
    "In this case, name is the variable name, and 'Aniruddh Tiwari' is the value being assigned to it using ''. The value 'Aniruddh Tiwari' is a string, so the variable name belongs to the data type called \"str,\" which represents string in Python."
   ]
  },
  {
   "cell_type": "markdown",
   "id": "f8ef6fe6-6018-4073-97c6-0bce1b6e301e",
   "metadata": {},
   "source": [
    "### Q10) Given the string \"Hello, World!\", extract the substring \"World\"."
   ]
  },
  {
   "cell_type": "code",
   "execution_count": 19,
   "id": "08ece5fc-0395-441c-978f-fe39cdaa8f45",
   "metadata": {},
   "outputs": [
    {
     "data": {
      "text/plain": [
       "'Hello, World!'"
      ]
     },
     "execution_count": 19,
     "metadata": {},
     "output_type": "execute_result"
    }
   ],
   "source": [
    "x = \"Hello, World!\"\n",
    "x"
   ]
  },
  {
   "cell_type": "code",
   "execution_count": 20,
   "id": "63596c8a-6aa8-4e73-8556-f0d1c415658a",
   "metadata": {},
   "outputs": [
    {
     "data": {
      "text/plain": [
       "13"
      ]
     },
     "execution_count": 20,
     "metadata": {},
     "output_type": "execute_result"
    }
   ],
   "source": [
    "len(x)"
   ]
  },
  {
   "cell_type": "code",
   "execution_count": 21,
   "id": "0d2f6085-4f12-4051-bd78-ca4f191ebf10",
   "metadata": {},
   "outputs": [
    {
     "data": {
      "text/plain": [
       "'World'"
      ]
     },
     "execution_count": 21,
     "metadata": {},
     "output_type": "execute_result"
    }
   ],
   "source": [
    "x[7:12]"
   ]
  },
  {
   "cell_type": "markdown",
   "id": "2b25d1ff-9a8b-45bc-a935-8d04ee4d0223",
   "metadata": {},
   "source": [
    "### Q11) Create a variable named \"is_student\" and assign it a boolean value indicating whether you are currently a student or not."
   ]
  },
  {
   "cell_type": "code",
   "execution_count": 22,
   "id": "3b3285d3-5693-4706-971d-84c24263dd2d",
   "metadata": {},
   "outputs": [],
   "source": [
    "is_student = True"
   ]
  },
  {
   "cell_type": "code",
   "execution_count": 23,
   "id": "0414952f-a3cd-439a-a9c6-b6708431fdf8",
   "metadata": {},
   "outputs": [
    {
     "name": "stdout",
     "output_type": "stream",
     "text": [
      "True\n"
     ]
    }
   ],
   "source": [
    "print(is_student)"
   ]
  },
  {
   "cell_type": "code",
   "execution_count": 24,
   "id": "cbee9972-ed88-4ea3-b2e7-28b90ccedb6b",
   "metadata": {},
   "outputs": [],
   "source": [
    "is_student = False"
   ]
  },
  {
   "cell_type": "code",
   "execution_count": 25,
   "id": "a9ddf257-155e-428e-b417-0cbca1104563",
   "metadata": {},
   "outputs": [
    {
     "name": "stdout",
     "output_type": "stream",
     "text": [
      "False\n"
     ]
    }
   ],
   "source": [
    "print(is_student)"
   ]
  },
  {
   "cell_type": "code",
   "execution_count": null,
   "id": "d8e3cc7e-1953-41b0-8da7-be59a48a9ba6",
   "metadata": {},
   "outputs": [],
   "source": []
  }
 ],
 "metadata": {
  "kernelspec": {
   "display_name": "Python 3 (ipykernel)",
   "language": "python",
   "name": "python3"
  },
  "language_info": {
   "codemirror_mode": {
    "name": "ipython",
    "version": 3
   },
   "file_extension": ".py",
   "mimetype": "text/x-python",
   "name": "python",
   "nbconvert_exporter": "python",
   "pygments_lexer": "ipython3",
   "version": "3.10.8"
  }
 },
 "nbformat": 4,
 "nbformat_minor": 5
}
