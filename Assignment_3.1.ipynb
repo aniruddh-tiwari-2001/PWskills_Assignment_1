{
 "cells": [
  {
   "cell_type": "markdown",
   "id": "4ade6d21-04df-488d-8b3a-09a77923ff38",
   "metadata": {},
   "source": [
    "## Assignment-3.1\n",
    "## Week - 3\n",
    "## Python - Data Structure\n",
    "## Code By - Aniruddh Tiwari"
   ]
  },
  {
   "cell_type": "markdown",
   "id": "7fc0e4a2-cb35-43ad-be5b-75b7f76904a9",
   "metadata": {},
   "source": [
    "### Q1. Which keyword is used to create a function? Create a function to return a list of odd numbers in the range of 1 to 25."
   ]
  },
  {
   "cell_type": "markdown",
   "id": "68b824d7-dcda-4c3a-8249-b39d543b4ac2",
   "metadata": {},
   "source": [
    "Ans:- def keyword is used to create a function"
   ]
  },
  {
   "cell_type": "code",
   "execution_count": 1,
   "id": "5fbb6144-d67b-4dba-b7a5-a5e021c46d7c",
   "metadata": {},
   "outputs": [],
   "source": [
    "l = list(range(1,16))\n",
    "def odd(l1):\n",
    "    l1 = []\n",
    "    for i in l:\n",
    "        if i%2!=0:\n",
    "            l1.append(i)\n",
    "        else:\n",
    "            pass\n",
    "    return l1"
   ]
  },
  {
   "cell_type": "code",
   "execution_count": 2,
   "id": "9ac91a38-9148-4162-ac24-20f1ff3b731b",
   "metadata": {},
   "outputs": [
    {
     "name": "stdout",
     "output_type": "stream",
     "text": [
      "This is the orignal list:- [1, 2, 3, 4, 5, 6, 7, 8, 9, 10, 11, 12, 13, 14, 15]\n",
      "This is the odd number list:- [1, 3, 5, 7, 9, 11, 13, 15]\n"
     ]
    }
   ],
   "source": [
    "print(\"This is the orignal list:-\",l)\n",
    "print(\"This is the odd number list:-\",odd(l))"
   ]
  },
  {
   "cell_type": "markdown",
   "id": "7a37306c-4676-481b-9194-e8ba42ff03c3",
   "metadata": {},
   "source": [
    "### Q2. Why *args and **kwargs is used in some functions? Create a function each for *args and **kwargs to demonstrate their use."
   ]
  },
  {
   "cell_type": "raw",
   "id": "42631d15-0aa3-4674-82cf-7ae28f73a512",
   "metadata": {},
   "source": [
    "*args:- We use (*args) to pass n number of arguments of any data type in a function, and this n number of arguments are going to pass through '*'. *args keep the arguments in a tuple"
   ]
  },
  {
   "cell_type": "code",
   "execution_count": 3,
   "id": "c9698d7b-3d56-4ed3-a399-a1c556412d09",
   "metadata": {},
   "outputs": [
    {
     "name": "stdout",
     "output_type": "stream",
     "text": [
      "8\n",
      "11657\n",
      "356.4\n"
     ]
    }
   ],
   "source": [
    "def test(*args):\n",
    "    add = 0\n",
    "    for i in args:\n",
    "        add = add+i\n",
    "    print(add)\n",
    "test(3,5)\n",
    "test(234,45,4,5687,5687)\n",
    "test(1.5,6.9,342,6)"
   ]
  },
  {
   "cell_type": "raw",
   "id": "70ac828f-22b3-4e75-a8bb-bee0cb4abea4",
   "metadata": {},
   "source": [
    "**kwargs:- We use (**kwargs) to pass arguments in a key value form in a function, and this n number of arguments are going to pass through '**'. **kwargs keep the arguments in a dictionary and **kwargs accept multipal key value arguments"
   ]
  },
  {
   "cell_type": "code",
   "execution_count": 4,
   "id": "284c8784-ae51-4d24-89ec-0df9000064c0",
   "metadata": {},
   "outputs": [
    {
     "name": "stdout",
     "output_type": "stream",
     "text": [
      "Hello, John, I hope now you are 25 year old\n"
     ]
    }
   ],
   "source": [
    "def test2(**kwargs):\n",
    "    print(f\"Hello, {kwargs['name']}, I hope now you are {kwargs['age']} year old\")\n",
    "test2(name=\"John\", age=25)"
   ]
  },
  {
   "cell_type": "markdown",
   "id": "041f5d16-c2fe-4062-95da-3ce79dc75734",
   "metadata": {},
   "source": [
    "### Q3. What is an iterator in python? Name the method used to initialise the iterator object and the method used for iteration. Use these methods to print the first five elements of the given list [2, 4, 6, 8, 10, 12, 14, 16, 18, 20]."
   ]
  },
  {
   "cell_type": "markdown",
   "id": "12ad2f7d-c179-4031-ae10-a3d7f02fa7f2",
   "metadata": {},
   "source": [
    "iterator is an object that allows you to iterate over a sequence of data, such as a list or a string. Iterators are created using the iter() function, and they can be used in for loops, comprehensions, and other iteration constructs."
   ]
  },
  {
   "cell_type": "code",
   "execution_count": 5,
   "id": "c14a13bc-94e0-401b-8826-b4aef2906f61",
   "metadata": {},
   "outputs": [
    {
     "name": "stdout",
     "output_type": "stream",
     "text": [
      "2\n",
      "4\n",
      "6\n",
      "8\n",
      "10\n"
     ]
    }
   ],
   "source": [
    "# Methode used to initialise the iterator object and the method used for iteration.\n",
    "lis = [2, 4, 6, 8, 10, 12, 14, 16, 18, 20]\n",
    "ireratoe = iter(lis) # iter() used to initialize the iterator object\n",
    "for i in range(5):\n",
    "    print(next(ireratoe)) # next() used to get the next item in the sequence."
   ]
  },
  {
   "cell_type": "markdown",
   "id": "39313cc3-cd00-4451-be7f-fe94bf912fbd",
   "metadata": {},
   "source": [
    "### Q4. What is a generator function in python? Why yield keyword is used? Give an example of a generator function."
   ]
  },
  {
   "cell_type": "markdown",
   "id": "2c2836ca-c5ad-452b-95f0-35a4d49d8cd5",
   "metadata": {},
   "source": [
    "Generator are a funtions that return a sequence of values. We use yield statment to return the value from function.\n",
    "\n",
    "Yield statment returns the elements from function into a generator object."
   ]
  },
  {
   "cell_type": "code",
   "execution_count": 6,
   "id": "2b16dc86-d2d9-485d-a5db-c76a3dd36269",
   "metadata": {},
   "outputs": [],
   "source": [
    "def test(n):\n",
    "    a = 0\n",
    "    b = 1\n",
    "    for i in range(n):\n",
    "        yield a\n",
    "        a,b = b,a+b"
   ]
  },
  {
   "cell_type": "code",
   "execution_count": 7,
   "id": "8331a54e-00dc-4865-9914-80682ac6ff30",
   "metadata": {},
   "outputs": [
    {
     "name": "stdout",
     "output_type": "stream",
     "text": [
      "0\n",
      "1\n",
      "1\n",
      "2\n",
      "3\n",
      "5\n",
      "8\n",
      "13\n",
      "21\n",
      "34\n"
     ]
    }
   ],
   "source": [
    "for i in test(10):\n",
    "    print(i)"
   ]
  },
  {
   "cell_type": "markdown",
   "id": "ebf1b14d-9318-40a5-93bb-a8838991f16f",
   "metadata": {},
   "source": [
    "### Q5. Create a generator function for prime numbers less than 1000. Use the next() method to print the first 20 prime numbers."
   ]
  },
  {
   "cell_type": "markdown",
   "id": "f54d0a9d-b0f2-4bfa-954c-319b4d4b21dd",
   "metadata": {},
   "source": [
    "next() funtion is used to retrieve element by element from a generator objecy"
   ]
  },
  {
   "cell_type": "code",
   "execution_count": 8,
   "id": "c43f28a8-37a0-4b4c-bf47-c544bd082310",
   "metadata": {},
   "outputs": [
    {
     "name": "stdout",
     "output_type": "stream",
     "text": [
      "2\n",
      "3\n",
      "5\n",
      "7\n",
      "11\n",
      "13\n",
      "17\n",
      "19\n",
      "23\n",
      "29\n",
      "31\n",
      "37\n",
      "41\n",
      "43\n",
      "47\n",
      "53\n",
      "59\n",
      "61\n",
      "67\n",
      "71\n"
     ]
    }
   ],
   "source": [
    "def prime_generator():\n",
    "    primes = []\n",
    "    num = 2\n",
    "    while True:\n",
    "        if all(num % prime != 0 for prime in primes):\n",
    "            primes.append(num)\n",
    "            yield num\n",
    "        num += 1\n",
    "\n",
    "prime_gen = prime_generator()\n",
    "for _ in range(20):\n",
    "    print(next(prime_gen))\n"
   ]
  },
  {
   "cell_type": "markdown",
   "id": "3dc53eff-112d-40cb-8556-5588028ae35e",
   "metadata": {},
   "source": [
    "### Q6. Write a python program to print the first 10 Fibonacci numbers using a while loop."
   ]
  },
  {
   "cell_type": "code",
   "execution_count": 9,
   "id": "981cac42-e86b-41b4-aa9f-fb6f16395041",
   "metadata": {},
   "outputs": [
    {
     "name": "stdout",
     "output_type": "stream",
     "text": [
      "0\n",
      "1\n",
      "1\n",
      "2\n",
      "3\n",
      "5\n",
      "8\n",
      "13\n",
      "21\n",
      "34\n"
     ]
    }
   ],
   "source": [
    "def test_fib1(n):\n",
    "    a = 0\n",
    "    b = 1\n",
    "    c = 0\n",
    "    while c < n:\n",
    "        yield a\n",
    "        t = a + b\n",
    "        a = b\n",
    "        b = t\n",
    "        c = c + 1\n",
    "\n",
    "fib_gen = test_fib1(10)\n",
    "for i in fib_gen:\n",
    "    print(i)\n"
   ]
  },
  {
   "cell_type": "markdown",
   "id": "780e2e48-5adc-4f06-a4ad-8db13b113dca",
   "metadata": {},
   "source": [
    "### Q7. Write a List Comprehension to iterate through the given string: ‘pwskills’. Expected output: ['p', 'w', 's', 'k', 'i', 'l', 'l', 's']"
   ]
  },
  {
   "cell_type": "code",
   "execution_count": 10,
   "id": "86de2e09-11f0-4028-a17f-90909704ecb1",
   "metadata": {},
   "outputs": [
    {
     "data": {
      "text/plain": [
       "['p', 'w', 's', 'k', 'i', 'l', 'l', 's']"
      ]
     },
     "execution_count": 10,
     "metadata": {},
     "output_type": "execute_result"
    }
   ],
   "source": [
    "s = 'pwskills'\n",
    "x = [i for i in s if i in 'pwskills']\n",
    "x"
   ]
  },
  {
   "cell_type": "code",
   "execution_count": 11,
   "id": "5005e209-5f81-4746-9e63-db8672fe7ebe",
   "metadata": {},
   "outputs": [
    {
     "name": "stdout",
     "output_type": "stream",
     "text": [
      "['p', 'w', 's', 'k', 'i', 'l', 'l', 's']\n"
     ]
    }
   ],
   "source": [
    "s = 'pwskills'\n",
    "j = []\n",
    "for i in s:\n",
    "    j.append(i)\n",
    "print(j)"
   ]
  },
  {
   "cell_type": "markdown",
   "id": "78c1dcb7-a47e-4e41-a426-934ad43cd0c5",
   "metadata": {},
   "source": [
    "### Q8. Write a python program to check whether a given number is Palindrome or not using a while loop."
   ]
  },
  {
   "cell_type": "code",
   "execution_count": 12,
   "id": "b7598203-c068-4c68-9a9f-b49b1ed83d5d",
   "metadata": {},
   "outputs": [
    {
     "name": "stdin",
     "output_type": "stream",
     "text": [
      "Enter the number:-  1221\n"
     ]
    },
    {
     "name": "stdout",
     "output_type": "stream",
     "text": [
      "Given number is a Palindrome\n"
     ]
    }
   ],
   "source": [
    "j = input(\"Enter the number:- \")\n",
    "while True:\n",
    "    if j == j[::-1]:\n",
    "        print(\"Given number is a Palindrome\")\n",
    "        break\n",
    "    else:\n",
    "        print(\"Given number is not a Palindrome\")\n",
    "        break"
   ]
  },
  {
   "cell_type": "code",
   "execution_count": 13,
   "id": "caf7442a-6d10-448d-afca-96d3379a8e84",
   "metadata": {},
   "outputs": [
    {
     "name": "stdin",
     "output_type": "stream",
     "text": [
      "Enter the number:-  23432\n"
     ]
    },
    {
     "name": "stdout",
     "output_type": "stream",
     "text": [
      "Given number is a Palindrome\n"
     ]
    }
   ],
   "source": [
    "j = int(input(\"Enter the number:- \"))\n",
    "t = j\n",
    "rev = 0\n",
    "while t>0:\n",
    "    rim = t%10\n",
    "    rev = (rev*10)+rim\n",
    "    t = t//10\n",
    "if j == rev:\n",
    "    print('Given number is a Palindrome')\n",
    "else:\n",
    "    print('Given number is not a Palindrome')"
   ]
  },
  {
   "cell_type": "markdown",
   "id": "f97ba2e7-d711-4e6c-aea4-897d571a3b2d",
   "metadata": {},
   "source": [
    "### Q9. Write a code to print odd numbers from 1 to 100 using list comprehension."
   ]
  },
  {
   "cell_type": "code",
   "execution_count": 14,
   "id": "569153ff-fee0-401b-8441-3d9649dcb010",
   "metadata": {},
   "outputs": [],
   "source": [
    "x = [i for i in range(101) if i%2 == 1]"
   ]
  },
  {
   "cell_type": "code",
   "execution_count": 15,
   "id": "ed01e105-16fd-4808-9dcb-e3de1106fe5e",
   "metadata": {},
   "outputs": [
    {
     "name": "stdout",
     "output_type": "stream",
     "text": [
      "[1, 3, 5, 7, 9, 11, 13, 15, 17, 19, 21, 23, 25, 27, 29, 31, 33, 35, 37, 39, 41, 43, 45, 47, 49, 51, 53, 55, 57, 59, 61, 63, 65, 67, 69, 71, 73, 75, 77, 79, 81, 83, 85, 87, 89, 91, 93, 95, 97, 99]\n"
     ]
    }
   ],
   "source": [
    "print(x)"
   ]
  }
 ],
 "metadata": {
  "kernelspec": {
   "display_name": "Python 3 (ipykernel)",
   "language": "python",
   "name": "python3"
  },
  "language_info": {
   "codemirror_mode": {
    "name": "ipython",
    "version": 3
   },
   "file_extension": ".py",
   "mimetype": "text/x-python",
   "name": "python",
   "nbconvert_exporter": "python",
   "pygments_lexer": "ipython3",
   "version": "3.10.8"
  }
 },
 "nbformat": 4,
 "nbformat_minor": 5
}
