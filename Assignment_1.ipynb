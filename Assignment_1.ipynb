{
 "cells": [
  {
   "cell_type": "markdown",
   "id": "3df1bc48-7896-4d7c-bbe4-33adbb9958e3",
   "metadata": {},
   "source": [
    "# Assignment-1\n",
    "## Python - Basic Building\n",
    "## Code By - Aniruddh Tiwari"
   ]
  },
  {
   "cell_type": "markdown",
   "id": "a54b66e5-a0a1-4688-8721-3c78f7486703",
   "metadata": {},
   "source": [
    "Q1. Create one variable containing following type of data:\n",
    "\n",
    "    (i) string\n",
    "    \n",
    "    (ii) list\n",
    "    \n",
    "    (iii) float\n",
    "    \n",
    "    (iv) tuple"
   ]
  },
  {
   "cell_type": "code",
   "execution_count": 1,
   "id": "eb65ccb0-bd47-4ecb-9c70-aff1d3612b4a",
   "metadata": {},
   "outputs": [
    {
     "data": {
      "text/plain": [
       "'Hello World'"
      ]
     },
     "execution_count": 1,
     "metadata": {},
     "output_type": "execute_result"
    }
   ],
   "source": [
    "string_data_type = \"Hello World\"\n",
    "string_data_type"
   ]
  },
  {
   "cell_type": "code",
   "execution_count": 2,
   "id": "ffaae0f1-b796-431f-b7c8-cb1f3c68f4c3",
   "metadata": {},
   "outputs": [
    {
     "data": {
      "text/plain": [
       "['hello', 25, 26, 28, 98.99]"
      ]
     },
     "execution_count": 2,
     "metadata": {},
     "output_type": "execute_result"
    }
   ],
   "source": [
    "list_data_type = ['hello',25,26,28,98.99]\n",
    "list_data_type"
   ]
  },
  {
   "cell_type": "code",
   "execution_count": 3,
   "id": "14327b95-fa95-47f5-8ae3-20db4845819e",
   "metadata": {},
   "outputs": [
    {
     "data": {
      "text/plain": [
       "95.99"
      ]
     },
     "execution_count": 3,
     "metadata": {},
     "output_type": "execute_result"
    }
   ],
   "source": [
    "float_data_type = 95.99\n",
    "float_data_type"
   ]
  },
  {
   "cell_type": "code",
   "execution_count": 4,
   "id": "cb2b9b16-59bb-44ab-b8f6-754a23a7e0f9",
   "metadata": {},
   "outputs": [
    {
     "data": {
      "text/plain": [
       "('hello', 25, 26, 28, 98.99)"
      ]
     },
     "execution_count": 4,
     "metadata": {},
     "output_type": "execute_result"
    }
   ],
   "source": [
    "tuple_data_type = ('hello',25,26,28,98.99)\n",
    "tuple_data_type"
   ]
  },
  {
   "cell_type": "code",
   "execution_count": null,
   "id": "9375c8e4-181e-4990-a0fe-c40e4da7a057",
   "metadata": {},
   "outputs": [],
   "source": []
  },
  {
   "cell_type": "markdown",
   "id": "07dc327e-878e-47bc-9afe-573918231fc7",
   "metadata": {},
   "source": [
    "Q2. Given are some following variables containing data:\n",
    "\n",
    "(i) var1 = ‘ ‘\n",
    "\n",
    "(ii) var2 = ‘[ DS , ML , Python]’\n",
    "\n",
    "(iii) var3 = [ ‘DS’ , ’ML’ , ‘Python’ ]\n",
    "\n",
    "(iv) var4 = 1.\n",
    "\n",
    "What will be the data type of the above given variable."
   ]
  },
  {
   "cell_type": "code",
   "execution_count": 5,
   "id": "9c2d5758-0006-4bd6-992c-469042169fb7",
   "metadata": {},
   "outputs": [
    {
     "name": "stdout",
     "output_type": "stream",
     "text": [
      "var1 data type is =  <class 'str'>\n"
     ]
    }
   ],
   "source": [
    "var1 = ''\n",
    "print('var1 data type is = ',type(var1))"
   ]
  },
  {
   "cell_type": "code",
   "execution_count": 6,
   "id": "dce4089a-2a53-4fc8-b07b-18885d9287e0",
   "metadata": {},
   "outputs": [
    {
     "name": "stdout",
     "output_type": "stream",
     "text": [
      "var2 data type is =  <class 'str'>\n"
     ]
    }
   ],
   "source": [
    "var2 =  '[ DS , ML , Python]'\n",
    "print('var2 data type is = ',type(var2))"
   ]
  },
  {
   "cell_type": "code",
   "execution_count": 7,
   "id": "3fba14fb-d56e-496e-8246-9e86bcee855d",
   "metadata": {},
   "outputs": [
    {
     "name": "stdout",
     "output_type": "stream",
     "text": [
      "var3 data type is =  <class 'list'>\n"
     ]
    }
   ],
   "source": [
    "var3 =  [ 'DS' , 'ML' , 'Python']\n",
    "print('var3 data type is = ',type(var3))"
   ]
  },
  {
   "cell_type": "code",
   "execution_count": 8,
   "id": "82889169-f640-4ed8-b32a-c79bb438e52a",
   "metadata": {},
   "outputs": [
    {
     "name": "stdout",
     "output_type": "stream",
     "text": [
      "var4 data type is =  <class 'float'>\n"
     ]
    }
   ],
   "source": [
    "var4 = 1.\n",
    "print('var4 data type is = ',type(var4))"
   ]
  },
  {
   "cell_type": "code",
   "execution_count": null,
   "id": "13d3e6f2-75f7-4e0d-87ea-d30741012c37",
   "metadata": {},
   "outputs": [],
   "source": []
  },
  {
   "cell_type": "markdown",
   "id": "f828ffa0-7e2c-4681-995f-d26578758582",
   "metadata": {},
   "source": [
    "Q3. Explain the use of the following operators using an example:\n",
    "    \n",
    "(i) /\n",
    "\n",
    "(ii) %\n",
    "\n",
    "(iii) //\n",
    "\n",
    "(iv) **"
   ]
  },
  {
   "cell_type": "code",
   "execution_count": 9,
   "id": "b765b81c-1fda-40c4-939f-d2164df4b2a8",
   "metadata": {},
   "outputs": [
    {
     "data": {
      "text/plain": [
       "4.0"
      ]
     },
     "execution_count": 9,
     "metadata": {},
     "output_type": "execute_result"
    }
   ],
   "source": [
    "# / is a  Division Operator use to find the quotient \n",
    "8/2"
   ]
  },
  {
   "cell_type": "code",
   "execution_count": 10,
   "id": "f10bf13d-424e-4d69-8325-1a1fc52d1a94",
   "metadata": {},
   "outputs": [
    {
     "data": {
      "text/plain": [
       "0"
      ]
     },
     "execution_count": 10,
     "metadata": {},
     "output_type": "execute_result"
    }
   ],
   "source": [
    "# % is a Modulus Operator use to find the remainder \n",
    "27%3"
   ]
  },
  {
   "cell_type": "code",
   "execution_count": 11,
   "id": "d950a3b2-0551-4413-9262-073fce0033c2",
   "metadata": {},
   "outputs": [
    {
     "data": {
      "text/plain": [
       "4"
      ]
     },
     "execution_count": 11,
     "metadata": {},
     "output_type": "execute_result"
    }
   ],
   "source": [
    "# // is a Division floor Operator use to find the \n",
    "#largest integer value that is less than or equal to the quotient of two numbers.\n",
    "8//2"
   ]
  },
  {
   "cell_type": "code",
   "execution_count": 12,
   "id": "fded4494-f1b4-484f-828d-becbe1be5843",
   "metadata": {},
   "outputs": [
    {
     "data": {
      "text/plain": [
       "512"
      ]
     },
     "execution_count": 12,
     "metadata": {},
     "output_type": "execute_result"
    }
   ],
   "source": [
    "# ** is Exponent Operator use to find the power of the number or use to find the sq. and cube roots\n",
    "8**3"
   ]
  },
  {
   "cell_type": "code",
   "execution_count": null,
   "id": "a32019d9-931c-4a39-9172-9174f04a3b4a",
   "metadata": {},
   "outputs": [],
   "source": []
  },
  {
   "cell_type": "markdown",
   "id": "f47572b8-6f7f-4683-86fc-e96c4e7d762b",
   "metadata": {},
   "source": [
    "Q4. Create a list of length 10 of your choice containing multiple types of data. Using for loop print the\n",
    "element and its data type."
   ]
  },
  {
   "cell_type": "code",
   "execution_count": 13,
   "id": "ba0d583a-db6a-4bc3-81fd-ce01b1be2735",
   "metadata": {},
   "outputs": [
    {
     "name": "stdout",
     "output_type": "stream",
     "text": [
      "Data Type of Hello is <class 'str'>\n",
      "Data Type of Aniruddh is <class 'str'>\n",
      "Data Type of 18 is <class 'int'>\n",
      "Data Type of 8 is <class 'int'>\n",
      "Data Type of 2 is <class 'int'>\n",
      "Data Type of 25 is <class 'int'>\n",
      "Data Type of 25.99 is <class 'float'>\n",
      "Data Type of [5, 45, 87.8, 'Golu'] is <class 'list'>\n",
      "Data Type of True is <class 'bool'>\n",
      "Data Type of False is <class 'bool'>\n",
      "Data Type of (5, 45, 87.8, 'Golu') is <class 'tuple'>\n"
     ]
    }
   ],
   "source": [
    "l = ['Hello', 'Aniruddh', 18,8,2,25,25.99,[5,45,87.8,'Golu'],True,False,(5,45,87.8,'Golu')]\n",
    "for i in l:\n",
    "    print(\"Data Type of\",i,\"is\",type(i))"
   ]
  },
  {
   "cell_type": "code",
   "execution_count": null,
   "id": "ba7bfc76-f9f6-408c-93ff-ded291faf0db",
   "metadata": {},
   "outputs": [],
   "source": []
  },
  {
   "cell_type": "markdown",
   "id": "f5b27f9f-e6c1-4d86-a0dc-dabebc8288ba",
   "metadata": {},
   "source": [
    "Q5. Using a while loop, verify if the number A is purely divisible by number B and if so then how many\n",
    "times it can be divisible."
   ]
  },
  {
   "cell_type": "code",
   "execution_count": 14,
   "id": "029f738f-e512-44a2-9ede-d7366503ae27",
   "metadata": {},
   "outputs": [
    {
     "name": "stdin",
     "output_type": "stream",
     "text": [
      "A =  2500\n",
      "B =  5\n"
     ]
    },
    {
     "name": "stdout",
     "output_type": "stream",
     "text": [
      "A is purely divisible by B for 4 times.\n"
     ]
    }
   ],
   "source": [
    "A = int(input(\"A = \"))\n",
    "B = int(input(\"B = \"))\n",
    "i = 0\n",
    "while A%B == 0:\n",
    "    A = A//B\n",
    "    i = i+1\n",
    "if i > 0:\n",
    "    print(\"A is purely divisible by B for\", i, \"times.\")\n",
    "else:\n",
    "    print(\"A is not purely divisible by B.\") "
   ]
  },
  {
   "cell_type": "code",
   "execution_count": null,
   "id": "0d943944-c094-4485-9007-24e9360566fb",
   "metadata": {},
   "outputs": [],
   "source": []
  },
  {
   "cell_type": "markdown",
   "id": "ee3c8afa-a3a4-4de0-9db3-9acaf3d53a77",
   "metadata": {},
   "source": [
    "Q6. Create a list containing 25 int type data. Using for loop and if-else condition print if the element is\n",
    "divisible by 3 or not."
   ]
  },
  {
   "cell_type": "code",
   "execution_count": 15,
   "id": "b1b4da36-13d0-4554-8a3b-e469d419e902",
   "metadata": {},
   "outputs": [
    {
     "name": "stdout",
     "output_type": "stream",
     "text": [
      "[0, 1, 2, 3, 4, 5, 6, 7, 8, 9, 10, 11, 12, 13, 14, 15, 16, 17, 18, 19, 20, 21, 22, 23, 24, 25]\n",
      "0 Divisible by 3\n",
      "1 Not divisible by 3\n",
      "2 Not divisible by 3\n",
      "3 Divisible by 3\n",
      "4 Not divisible by 3\n",
      "5 Not divisible by 3\n",
      "6 Divisible by 3\n",
      "7 Not divisible by 3\n",
      "8 Not divisible by 3\n",
      "9 Divisible by 3\n",
      "10 Not divisible by 3\n",
      "11 Not divisible by 3\n",
      "12 Divisible by 3\n",
      "13 Not divisible by 3\n",
      "14 Not divisible by 3\n",
      "15 Divisible by 3\n",
      "16 Not divisible by 3\n",
      "17 Not divisible by 3\n",
      "18 Divisible by 3\n",
      "19 Not divisible by 3\n",
      "20 Not divisible by 3\n",
      "21 Divisible by 3\n",
      "22 Not divisible by 3\n",
      "23 Not divisible by 3\n",
      "24 Divisible by 3\n",
      "25 Not divisible by 3\n"
     ]
    }
   ],
   "source": [
    "l = list(range(26))\n",
    "print(l)\n",
    "for i in l:\n",
    "    if i%3==0:\n",
    "        print(i, \"Divisible by 3\")\n",
    "    else :\n",
    "        print(i, \"Not divisible by 3\")"
   ]
  },
  {
   "cell_type": "code",
   "execution_count": null,
   "id": "c8026461-84d8-40a4-9e16-0afa8f6b4772",
   "metadata": {},
   "outputs": [],
   "source": []
  },
  {
   "cell_type": "markdown",
   "id": "ec3fffb2-95d8-41f0-8c27-944aac390e23",
   "metadata": {},
   "source": [
    "Q7. What do you understand about mutable and immutable data types? Give examples for both showing\n",
    "this property."
   ]
  },
  {
   "cell_type": "markdown",
   "id": "aecfe24a-08a9-457f-a00c-4d624535a64a",
   "metadata": {},
   "source": [
    "Mutable Data Type : Mutalble Data Types are the data type in which we can updata the data after they are created.\n",
    "\n",
    "For example :- List"
   ]
  },
  {
   "cell_type": "code",
   "execution_count": 16,
   "id": "0055cf86-5401-4fbe-a86f-d6fbbc5c0758",
   "metadata": {},
   "outputs": [
    {
     "data": {
      "text/plain": [
       "[25, 28, 29, 30, 'Aniruddh', 29.99]"
      ]
     },
     "execution_count": 16,
     "metadata": {},
     "output_type": "execute_result"
    }
   ],
   "source": [
    "l = [25,28,29,30,'Aniruddh',29.99]\n",
    "l"
   ]
  },
  {
   "cell_type": "code",
   "execution_count": 17,
   "id": "9cfae7b5-d666-41c1-a5f6-fa42620cedac",
   "metadata": {},
   "outputs": [],
   "source": [
    "# Reassigning values from list\n",
    "l[1] = 696969"
   ]
  },
  {
   "cell_type": "code",
   "execution_count": 18,
   "id": "9ef0cf7d-cb5f-4df2-9621-3df66d7781d3",
   "metadata": {},
   "outputs": [
    {
     "data": {
      "text/plain": [
       "[25, 696969, 29, 30, 'Aniruddh', 29.99]"
      ]
     },
     "execution_count": 18,
     "metadata": {},
     "output_type": "execute_result"
    }
   ],
   "source": [
    "l"
   ]
  },
  {
   "cell_type": "code",
   "execution_count": 19,
   "id": "d2d9ea98-79d1-4d94-9e1a-a3c037f3f0f5",
   "metadata": {},
   "outputs": [],
   "source": [
    "l[4] = 'Golu'"
   ]
  },
  {
   "cell_type": "code",
   "execution_count": 20,
   "id": "52bc395b-26f7-4f3a-9b47-901f6f8df3d5",
   "metadata": {},
   "outputs": [
    {
     "data": {
      "text/plain": [
       "[25, 696969, 29, 30, 'Golu', 29.99]"
      ]
     },
     "execution_count": 20,
     "metadata": {},
     "output_type": "execute_result"
    }
   ],
   "source": [
    "l"
   ]
  },
  {
   "cell_type": "markdown",
   "id": "5c6d1178-7a43-499e-a3d9-6da6dcc058de",
   "metadata": {},
   "source": [
    "Hear you can see that we can reassign or update in list because list is Mutable Data Type "
   ]
  },
  {
   "cell_type": "code",
   "execution_count": null,
   "id": "f4accd44-e367-4344-ad55-cc8ea81000a2",
   "metadata": {},
   "outputs": [],
   "source": []
  },
  {
   "cell_type": "markdown",
   "id": "5ca3687d-af48-4471-967b-4b91a2c5e2d0",
   "metadata": {},
   "source": [
    "Imutable Data Type : Imutable Data Types are the data type in which we can not updata the data after they are created.\n",
    "\n",
    "For example :- String"
   ]
  },
  {
   "cell_type": "code",
   "execution_count": 21,
   "id": "f01ed7e7-2cea-417c-a5bc-b76e4bd53002",
   "metadata": {},
   "outputs": [
    {
     "data": {
      "text/plain": [
       "'Aniruddh'"
      ]
     },
     "execution_count": 21,
     "metadata": {},
     "output_type": "execute_result"
    }
   ],
   "source": [
    "s = \"Aniruddh\"\n",
    "s"
   ]
  },
  {
   "cell_type": "code",
   "execution_count": 22,
   "id": "5024009b-e5a6-40f3-b526-564a7ee85e84",
   "metadata": {},
   "outputs": [
    {
     "ename": "TypeError",
     "evalue": "'str' object does not support item assignment",
     "output_type": "error",
     "traceback": [
      "\u001b[0;31m---------------------------------------------------------------------------\u001b[0m",
      "\u001b[0;31mTypeError\u001b[0m                                 Traceback (most recent call last)",
      "Cell \u001b[0;32mIn[22], line 1\u001b[0m\n\u001b[0;32m----> 1\u001b[0m \u001b[43ms\u001b[49m\u001b[43m[\u001b[49m\u001b[38;5;241;43m1\u001b[39;49m\u001b[43m]\u001b[49m \u001b[38;5;241m=\u001b[39m \u001b[38;5;124m\"\u001b[39m\u001b[38;5;124ma\u001b[39m\u001b[38;5;124m\"\u001b[39m\n",
      "\u001b[0;31mTypeError\u001b[0m: 'str' object does not support item assignment"
     ]
    }
   ],
   "source": [
    "s[1] = \"a\""
   ]
  },
  {
   "cell_type": "markdown",
   "id": "ca91fedf-5c98-48e7-8f04-a9e1645f7267",
   "metadata": {},
   "source": [
    "Hear you can see that we can not reassign or update in String because list is Imutable Data Type "
   ]
  },
  {
   "cell_type": "code",
   "execution_count": null,
   "id": "5b720ce4-3e17-4b82-99d1-33c5fd5ad3bb",
   "metadata": {},
   "outputs": [],
   "source": []
  }
 ],
 "metadata": {
  "kernelspec": {
   "display_name": "Python 3 (ipykernel)",
   "language": "python",
   "name": "python3"
  },
  "language_info": {
   "codemirror_mode": {
    "name": "ipython",
    "version": 3
   },
   "file_extension": ".py",
   "mimetype": "text/x-python",
   "name": "python",
   "nbconvert_exporter": "python",
   "pygments_lexer": "ipython3",
   "version": "3.10.8"
  }
 },
 "nbformat": 4,
 "nbformat_minor": 5
}
