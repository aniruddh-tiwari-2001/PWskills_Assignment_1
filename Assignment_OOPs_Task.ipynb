{
 "cells": [
  {
   "cell_type": "markdown",
   "id": "a85f1fae-d697-401f-8b3c-f2f4559d86d7",
   "metadata": {},
   "source": [
    "# Assignment\n",
    "## Python - OOPs Task\n",
    "## Week - 4\n",
    "## Code By - Aniruddh Tiwari"
   ]
  },
  {
   "cell_type": "markdown",
   "id": "cd39de0c-37bc-4d2c-a25b-bf68c608cd64",
   "metadata": {},
   "source": [
    "### Q1, Create a vehicle class with an init method having instance variables as name_of_vehicle, max_speed and average_of_vehicle."
   ]
  },
  {
   "cell_type": "code",
   "execution_count": 1,
   "id": "43a43ec8-7950-4b41-b165-4c17a53958d9",
   "metadata": {},
   "outputs": [],
   "source": [
    "class vehicle:\n",
    "    def __init__(self, name_of_vehicle, max_speed, average_of_vehicle):\n",
    "        self.name_of_vehicle = name_of_vehicle\n",
    "        self.max_speed = max_speed\n",
    "        self.average_of_vehicle = average_of_vehicle\n",
    "    def display(self):\n",
    "        return self.name_of_vehicle, self.max_speed, self.average_of_vehicle"
   ]
  },
  {
   "cell_type": "code",
   "execution_count": 2,
   "id": "473c69d5-df15-4e30-a1c0-f7fdec72f68a",
   "metadata": {},
   "outputs": [],
   "source": [
    "obj_1 = vehicle('Altroz', 600, 120)"
   ]
  },
  {
   "cell_type": "code",
   "execution_count": 3,
   "id": "6d043b1a-0b69-40fe-9cd4-e78a43349ca6",
   "metadata": {},
   "outputs": [
    {
     "data": {
      "text/plain": [
       "('Altroz', 600, 120)"
      ]
     },
     "execution_count": 3,
     "metadata": {},
     "output_type": "execute_result"
    }
   ],
   "source": [
    "obj_1.display()"
   ]
  },
  {
   "cell_type": "markdown",
   "id": "5708c43f-a9e9-4fa5-bff5-341be75dafc2",
   "metadata": {},
   "source": [
    "### Q2. Create a child class car from the vehicle class created in Que 1, which will inherit the vehicle class. Create a method named seating_capacity which takes capacity as an argument and returns the name of the vehicle and its seating capacity."
   ]
  },
  {
   "cell_type": "code",
   "execution_count": 4,
   "id": "7ac59201-e92c-4fce-93d7-cee69fb16e6a",
   "metadata": {},
   "outputs": [],
   "source": [
    "class car(vehicle):\n",
    "    def seating_capacity(self, capacity):\n",
    "        return f\"{self.name_of_vehicle} capacity is {capacity}\""
   ]
  },
  {
   "cell_type": "code",
   "execution_count": 5,
   "id": "3cec94c9-2197-416e-8525-7b98e84b4aa0",
   "metadata": {},
   "outputs": [
    {
     "name": "stdout",
     "output_type": "stream",
     "text": [
      "('Altroz', 600, 120)\n",
      "Altroz capacity is 6\n"
     ]
    }
   ],
   "source": [
    "c = car('Altroz', 600, 120)\n",
    "print(c.display())\n",
    "print(c.seating_capacity(6))"
   ]
  },
  {
   "cell_type": "markdown",
   "id": "6edd190a-fae9-4588-8b92-31bb5b3baaea",
   "metadata": {},
   "source": [
    "### Q3. What is multiple inheritance? Write a python code to demonstrate multiple inheritance."
   ]
  },
  {
   "cell_type": "raw",
   "id": "4f393c07-9b78-408a-9ae5-8daaab526c03",
   "metadata": {},
   "source": [
    "Ans :- Multiple inheritance in Python allows a class to inherit attributes and methods from multiple parent classes."
   ]
  },
  {
   "cell_type": "code",
   "execution_count": 6,
   "id": "dd869920-8965-4bc5-87c5-3fba6da83ce1",
   "metadata": {},
   "outputs": [],
   "source": [
    "class leng:\n",
    "    def __init__(self, l):\n",
    "        self.l = l\n",
    "\n",
    "class bre:\n",
    "    def __init__(self, b):\n",
    "        self.b = b\n",
    "\n",
    "class area(leng, bre):\n",
    "    def __init__(self, l, b):\n",
    "        leng.__init__(self, l)\n",
    "        bre.__init__(self, b)\n",
    "    def area_rec(self):\n",
    "        return self.l * self.b"
   ]
  },
  {
   "cell_type": "code",
   "execution_count": 7,
   "id": "ed194c19-4ff2-48a4-9e84-126ce53fe987",
   "metadata": {},
   "outputs": [],
   "source": [
    "length = leng(5)"
   ]
  },
  {
   "cell_type": "code",
   "execution_count": 8,
   "id": "00f276f1-79a5-4283-8202-0b8c53a11aa3",
   "metadata": {},
   "outputs": [],
   "source": [
    "breath = bre(5)"
   ]
  },
  {
   "cell_type": "code",
   "execution_count": 9,
   "id": "7182aa9b-792f-4c1a-96ae-efdadb0c719c",
   "metadata": {},
   "outputs": [],
   "source": [
    "obj = area(length.l, breath.b)"
   ]
  },
  {
   "cell_type": "code",
   "execution_count": 10,
   "id": "5829a955-1b4b-4715-9f10-72c5f8148079",
   "metadata": {},
   "outputs": [
    {
     "data": {
      "text/plain": [
       "25"
      ]
     },
     "execution_count": 10,
     "metadata": {},
     "output_type": "execute_result"
    }
   ],
   "source": [
    "obj.area_rec()"
   ]
  },
  {
   "cell_type": "markdown",
   "id": "f6e127ad-79e3-4834-af4b-6716afe663ed",
   "metadata": {},
   "source": [
    "### Q4. What are getter and setter in python? Create a class and create a getter and a setter method in this class."
   ]
  },
  {
   "cell_type": "markdown",
   "id": "92a10bfb-b07e-4f3b-b3b6-8986b37308b9",
   "metadata": {},
   "source": [
    "In Python, getters and setters are methods used to access and modify the attributes (also known as properties or instance variables) of a class. They provide a way to control the read and write operations on class attributes, allowing for encapsulation and data hiding.\n",
    "\n",
    "- setter method :- set value of instance variables also known as mutater method\n",
    "- getter method :- get value of instance variables also known as accessor method \n"
   ]
  },
  {
   "cell_type": "code",
   "execution_count": 11,
   "id": "ed67dd35-1cfb-4d9f-859d-259f957040e4",
   "metadata": {},
   "outputs": [],
   "source": [
    "class emoliyee:\n",
    "    def setName(self, name):\n",
    "        self.name = name\n",
    "    def get_name(self):\n",
    "        print(\"The name is : \",self.name)"
   ]
  },
  {
   "cell_type": "code",
   "execution_count": 12,
   "id": "fd5e4f5d-b950-4c89-8a63-42a50e5c4ef8",
   "metadata": {},
   "outputs": [
    {
     "name": "stdin",
     "output_type": "stream",
     "text": [
      "Enter the name:-  Aniruddh\n",
      "Enter the name:-  Golu\n"
     ]
    },
    {
     "name": "stdout",
     "output_type": "stream",
     "text": [
      "e1 object is:  {'name': 'Aniruddh'}\n",
      "e2 object is:  {'name': 'Golu'}\n"
     ]
    }
   ],
   "source": [
    "e1 = emoliyee()\n",
    "e2 = emoliyee()\n",
    "\n",
    "e1.setName(input(\"Enter the name:- \"))\n",
    "e2.setName(input(\"Enter the name:- \"))\n",
    "print(\"e1 object is: \",e1.__dict__)\n",
    "print(\"e2 object is: \",e2.__dict__)"
   ]
  },
  {
   "cell_type": "code",
   "execution_count": 13,
   "id": "324e7bbd-d553-46cc-b96e-f5d1be512e56",
   "metadata": {},
   "outputs": [
    {
     "name": "stdout",
     "output_type": "stream",
     "text": [
      "The name is :  Aniruddh\n",
      "The name is :  Golu\n"
     ]
    }
   ],
   "source": [
    "e1.get_name()\n",
    "e2.get_name()"
   ]
  },
  {
   "cell_type": "markdown",
   "id": "070d6ed2-018f-49e5-91b0-b1026a51cf9c",
   "metadata": {},
   "source": [
    "### Q5.What is method overriding in python? Write a python code to demonstrate method overriding."
   ]
  },
  {
   "cell_type": "markdown",
   "id": "f009e05d-e87d-467c-9e38-2e701618b654",
   "metadata": {},
   "source": [
    "Method overriding is a concept that allows a subclass to provide a different implementation of a method that is already defined in its superclass. However, method overriding applies to user-defined methods within classes and is not directly related to built-in functions."
   ]
  },
  {
   "cell_type": "code",
   "execution_count": 14,
   "id": "63c67338-6df2-427f-aa5f-d65a7f050a8a",
   "metadata": {},
   "outputs": [
    {
     "name": "stdout",
     "output_type": "stream",
     "text": [
      "Calculating area in Shape class\n",
      "Calculating area in Rectangle class\n",
      "Calculating area in Circle class\n"
     ]
    }
   ],
   "source": [
    "class Shape:\n",
    "    def area(self):\n",
    "        print(\"Calculating area in Shape class\")\n",
    "\n",
    "class Rectangle(Shape):\n",
    "    def area(self):\n",
    "        print(\"Calculating area in Rectangle class\")\n",
    "\n",
    "class Circle(Shape):\n",
    "    def area(self):\n",
    "        print(\"Calculating area in Circle class\")\n",
    "\n",
    "# Create instances of the classes\n",
    "shape = Shape()\n",
    "rectangle = Rectangle()\n",
    "circle = Circle()\n",
    "\n",
    "# Call the area method on each instance\n",
    "shape.area()      \n",
    "rectangle.area()  \n",
    "circle.area()  \n"
   ]
  },
  {
   "cell_type": "code",
   "execution_count": 15,
   "id": "79e3903f-ec11-4a0c-838d-6f4054a0f827",
   "metadata": {},
   "outputs": [],
   "source": [
    "class cart:\n",
    "    def __init__(self, basket1, basket2, basket3):\n",
    "        self.clothes = basket1\n",
    "        self.electronics = basket2\n",
    "        self.other = basket3\n",
    "    def __len__(self):\n",
    "        print(\"Total number of items in cart:- \")\n",
    "        return len(self.clothes)+len(self.electronics)+len(self.other)"
   ]
  },
  {
   "cell_type": "code",
   "execution_count": 16,
   "id": "1eeb1edd-8d29-4925-967f-5e7ebf302f63",
   "metadata": {},
   "outputs": [
    {
     "name": "stdout",
     "output_type": "stream",
     "text": [
      "Total number of items in cart:- \n",
      "8\n"
     ]
    }
   ],
   "source": [
    "golu = cart(['Pant','Shirt','Tshirt'],['Mobile','Laptop', 'Headphone'],['Chair','Table'])\n",
    "print(len(golu))"
   ]
  }
 ],
 "metadata": {
  "kernelspec": {
   "display_name": "Python 3 (ipykernel)",
   "language": "python",
   "name": "python3"
  },
  "language_info": {
   "codemirror_mode": {
    "name": "ipython",
    "version": 3
   },
   "file_extension": ".py",
   "mimetype": "text/x-python",
   "name": "python",
   "nbconvert_exporter": "python",
   "pygments_lexer": "ipython3",
   "version": "3.10.8"
  }
 },
 "nbformat": 4,
 "nbformat_minor": 5
}
